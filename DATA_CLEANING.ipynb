{
 "cells": [
  {
   "cell_type": "markdown",
   "metadata": {},
   "source": [
    "## This Notebook contains code to clean the data"
   ]
  },
  {
   "cell_type": "markdown",
   "metadata": {},
   "source": [
    "### The following have been done as part of data cleaning:\n",
    "#### 1. Replaced all the \"?\" and string \"NULL\" values with null/missing values in order to handle such missing values\n",
    "#### 2. Dropped columns such as 'weight', 'payer code' & 'medical speciality' as they contain a large number of missing values\n",
    "#### 3. Replaced missing values in 'diag1', 'diag2', 'diag3' & 'Race' columns with the MODE (most frequently occuring value) value of that column\n",
    "#### 4. Dropped Primary Key/Foreign Key columns such as 'encounter_id', 'patient_nbr', 'admission_type_id', 'discharge_disposition_id' & 'admission_source_id' as they are not useful for our analysis\n",
    "#### 5. Dropped columns such as 'acetohexamide', 'tolbutamide', 'troglitazone', 'tolazamide', 'examide', 'citoglipton', 'glipizide-metformin', 'glimepiride-pioglitazone', 'metformin-rosiglitazone' & 'metformin-pioglitazone' as these 10 columns have almost 0 variance with every row of these columns having the exact same value. Such columns with very low variance are not useful in explaining our dependent variable and hence they need to be dropped\n",
    "#### 6. Plotted the histogram of numeric variables to view their distribution and check for outliers. \n",
    "\n",
    "#### The final cleaned dataframe contains 101766 rows & 35 columns\n"
   ]
  },
  {
   "cell_type": "code",
   "execution_count": 1,
   "metadata": {},
   "outputs": [],
   "source": [
    "# create spark and sparkcontext objects\n",
    "from pyspark.sql import SparkSession\n",
    "from pyspark.sql import Row\n",
    "import numpy as np\n",
    "import pandas as pd\n",
    "from pyspark.sql.functions import isnan, isnull, when, count, col\n",
    "from pyspark.sql import functions as fn\n",
    "import matplotlib.pyplot as plt\n",
    "from pyspark.mllib.stat import Statistics\n",
    "from pyspark.ml import feature\n",
    "from pyspark.ml import clustering\n",
    "# Functionality for regression\n",
    "from pyspark.ml import regression\n",
    "# Funcionality for classification\n",
    "from pyspark.ml import classification\n",
    "# Object for creating sequences of transformations\n",
    "from pyspark.ml import Pipeline\n",
    "import seaborn as sns\n",
    "from pyspark.ml.feature import StandardScaler\n",
    "from math import exp, log10, fabs, atan, log\n",
    "spark = SparkSession.builder.getOrCreate()\n",
    "sc = spark.sparkContext\n",
    "from pyspark.ml.feature import VectorAssembler\n",
    "from pyspark.ml.evaluation import BinaryClassificationEvaluator\n",
    "from pyspark.ml.classification import LogisticRegression, RandomForestClassifier\n",
    "from pyspark.ml.tuning import ParamGridBuilder,CrossValidator\n",
    "import requests\n",
    "from pyspark.ml.feature import StopWordsRemover\n",
    "from pyspark.ml.feature import RegexTokenizer\n",
    "from pyspark.ml.feature import CountVectorizer\n",
    "from pyspark.ml.feature import IDF\n",
    "from pyspark.ml.classification import GBTClassifier"
   ]
  },
  {
   "cell_type": "code",
   "execution_count": 2,
   "metadata": {},
   "outputs": [],
   "source": [
    "# Do not delete or change this cell\n",
    "\n",
    "# grading import statements\n",
    "from pyspark.sql import SparkSession\n",
    "from pyspark.sql import SQLContext\n",
    "spark = SparkSession.builder.getOrCreate()\n",
    "sc = spark.sparkContext\n",
    "sqlContext = SQLContext(sc)\n",
    "import os\n",
    "\n",
    "# Define a function to determine if we are running on data bricks\n",
    "# Return true if running in the data bricks environment, false otherwise\n",
    "def is_databricks():\n",
    "    # get the databricks runtime version\n",
    "    db_env = os.getenv(\"DATABRICKS_RUNTIME_VERSION\")\n",
    "    \n",
    "    # if running on data bricks\n",
    "    if db_env != None:\n",
    "        return True\n",
    "    else:\n",
    "        return False\n",
    "\n",
    "# Define a function to read the data file.  The full path data file name is constructed\n",
    "# by checking runtime environment variables to determine if the runtime environment is \n",
    "# databricks, or a student's personal computer.  The full path file name is then\n",
    "# constructed based on the runtime env.\n",
    "# \n",
    "# Params\n",
    "#   data_file_name: The base name of the data file to load\n",
    "# \n",
    "# Returns the full path file name based on the runtime env\n",
    "#\n",
    "# Correct Usage Example (pass ONLY the full file name):\n",
    "#   file_name_to_load = get_training_filename(\"sms_spam.csv\") # correct - pass ONLY the full file name  \n",
    "#   \n",
    "# Incorrect Usage Example\n",
    "#   file_name_to_load = get_training_filename(\"/sms_spam.csv\") # incorrect - pass ONLY the full file name\n",
    "#   file_name_to_load = get_training_filename(\"sms_spam.csv/\") # incorrect - pass ONLY the full file name\n",
    "#   file_name_to_load = get_training_filename(\"c:/users/will/data/sms_spam.csv\") incorrect -pass ONLY the full file name\n",
    "def get_training_filename(data_file_name):    \n",
    "    # if running on data bricks\n",
    "    if is_databricks():\n",
    "        # build the full path file name assuming data brick env\n",
    "        full_path_name = \"/FileStore/tables/%s\" % data_file_name\n",
    "    # else the data is assumed to be in the same dir as this notebook\n",
    "    else:\n",
    "        # Assume the student is running on their own computer and load the data\n",
    "        # file from the same dir as this notebook\n",
    "        full_path_name = data_file_name\n",
    "    \n",
    "    # return the full path file name to the caller\n",
    "    return full_path_name"
   ]
  },
  {
   "cell_type": "markdown",
   "metadata": {},
   "source": [
    "### Reading CSV into Spark dataframe\n",
    "#### CSV contains data of all diabetic patients with their \"admission type ids\", \"discharge disposition ids\" and \"admission source ids\" mapped to their corresponding values"
   ]
  },
  {
   "cell_type": "code",
   "execution_count": 3,
   "metadata": {},
   "outputs": [],
   "source": [
    "hosp_readmit_id_mapped_df = spark.read.csv(get_training_filename('diabetic_data_id_mapped.csv'), header=True, inferSchema=True)"
   ]
  },
  {
   "cell_type": "markdown",
   "metadata": {},
   "source": [
    "#### Printing the Head and shape of the DF"
   ]
  },
  {
   "cell_type": "code",
   "execution_count": 4,
   "metadata": {},
   "outputs": [
    {
     "name": "stdout",
     "output_type": "stream",
     "text": [
      "Shape of hosp_readmit_id_mapped_df is:  (101766, 53)\n"
     ]
    },
    {
     "data": {
      "text/html": [
       "<div>\n",
       "<style scoped>\n",
       "    .dataframe tbody tr th:only-of-type {\n",
       "        vertical-align: middle;\n",
       "    }\n",
       "\n",
       "    .dataframe tbody tr th {\n",
       "        vertical-align: top;\n",
       "    }\n",
       "\n",
       "    .dataframe thead th {\n",
       "        text-align: right;\n",
       "    }\n",
       "</style>\n",
       "<table border=\"1\" class=\"dataframe\">\n",
       "  <thead>\n",
       "    <tr style=\"text-align: right;\">\n",
       "      <th></th>\n",
       "      <th>encounter_id</th>\n",
       "      <th>patient_nbr</th>\n",
       "      <th>race</th>\n",
       "      <th>gender</th>\n",
       "      <th>age</th>\n",
       "      <th>weight</th>\n",
       "      <th>admission_type_id</th>\n",
       "      <th>admission_type_name</th>\n",
       "      <th>discharge_disposition_id</th>\n",
       "      <th>dischage_disposition_name</th>\n",
       "      <th>...</th>\n",
       "      <th>citoglipton</th>\n",
       "      <th>insulin</th>\n",
       "      <th>glyburide-metformin</th>\n",
       "      <th>glipizide-metformin</th>\n",
       "      <th>glimepiride-pioglitazone</th>\n",
       "      <th>metformin-rosiglitazone</th>\n",
       "      <th>metformin-pioglitazone</th>\n",
       "      <th>change</th>\n",
       "      <th>diabetesMed</th>\n",
       "      <th>readmitted</th>\n",
       "    </tr>\n",
       "  </thead>\n",
       "  <tbody>\n",
       "    <tr>\n",
       "      <td>0</td>\n",
       "      <td>2278392</td>\n",
       "      <td>8222157</td>\n",
       "      <td>Caucasian</td>\n",
       "      <td>Female</td>\n",
       "      <td>[0-10)</td>\n",
       "      <td>?</td>\n",
       "      <td>6</td>\n",
       "      <td>NULL</td>\n",
       "      <td>25</td>\n",
       "      <td>Not Mapped</td>\n",
       "      <td>...</td>\n",
       "      <td>No</td>\n",
       "      <td>No</td>\n",
       "      <td>No</td>\n",
       "      <td>No</td>\n",
       "      <td>No</td>\n",
       "      <td>No</td>\n",
       "      <td>No</td>\n",
       "      <td>No</td>\n",
       "      <td>No</td>\n",
       "      <td>NO</td>\n",
       "    </tr>\n",
       "    <tr>\n",
       "      <td>1</td>\n",
       "      <td>149190</td>\n",
       "      <td>55629189</td>\n",
       "      <td>Caucasian</td>\n",
       "      <td>Female</td>\n",
       "      <td>[10-20)</td>\n",
       "      <td>?</td>\n",
       "      <td>1</td>\n",
       "      <td>Emergency</td>\n",
       "      <td>1</td>\n",
       "      <td>Discharged to home</td>\n",
       "      <td>...</td>\n",
       "      <td>No</td>\n",
       "      <td>Up</td>\n",
       "      <td>No</td>\n",
       "      <td>No</td>\n",
       "      <td>No</td>\n",
       "      <td>No</td>\n",
       "      <td>No</td>\n",
       "      <td>Ch</td>\n",
       "      <td>Yes</td>\n",
       "      <td>&gt;30</td>\n",
       "    </tr>\n",
       "    <tr>\n",
       "      <td>2</td>\n",
       "      <td>64410</td>\n",
       "      <td>86047875</td>\n",
       "      <td>AfricanAmerican</td>\n",
       "      <td>Female</td>\n",
       "      <td>[20-30)</td>\n",
       "      <td>?</td>\n",
       "      <td>1</td>\n",
       "      <td>Emergency</td>\n",
       "      <td>1</td>\n",
       "      <td>Discharged to home</td>\n",
       "      <td>...</td>\n",
       "      <td>No</td>\n",
       "      <td>No</td>\n",
       "      <td>No</td>\n",
       "      <td>No</td>\n",
       "      <td>No</td>\n",
       "      <td>No</td>\n",
       "      <td>No</td>\n",
       "      <td>No</td>\n",
       "      <td>Yes</td>\n",
       "      <td>NO</td>\n",
       "    </tr>\n",
       "    <tr>\n",
       "      <td>3</td>\n",
       "      <td>500364</td>\n",
       "      <td>82442376</td>\n",
       "      <td>Caucasian</td>\n",
       "      <td>Male</td>\n",
       "      <td>[30-40)</td>\n",
       "      <td>?</td>\n",
       "      <td>1</td>\n",
       "      <td>Emergency</td>\n",
       "      <td>1</td>\n",
       "      <td>Discharged to home</td>\n",
       "      <td>...</td>\n",
       "      <td>No</td>\n",
       "      <td>Up</td>\n",
       "      <td>No</td>\n",
       "      <td>No</td>\n",
       "      <td>No</td>\n",
       "      <td>No</td>\n",
       "      <td>No</td>\n",
       "      <td>Ch</td>\n",
       "      <td>Yes</td>\n",
       "      <td>NO</td>\n",
       "    </tr>\n",
       "    <tr>\n",
       "      <td>4</td>\n",
       "      <td>16680</td>\n",
       "      <td>42519267</td>\n",
       "      <td>Caucasian</td>\n",
       "      <td>Male</td>\n",
       "      <td>[40-50)</td>\n",
       "      <td>?</td>\n",
       "      <td>1</td>\n",
       "      <td>Emergency</td>\n",
       "      <td>1</td>\n",
       "      <td>Discharged to home</td>\n",
       "      <td>...</td>\n",
       "      <td>No</td>\n",
       "      <td>Steady</td>\n",
       "      <td>No</td>\n",
       "      <td>No</td>\n",
       "      <td>No</td>\n",
       "      <td>No</td>\n",
       "      <td>No</td>\n",
       "      <td>Ch</td>\n",
       "      <td>Yes</td>\n",
       "      <td>NO</td>\n",
       "    </tr>\n",
       "  </tbody>\n",
       "</table>\n",
       "<p>5 rows × 53 columns</p>\n",
       "</div>"
      ],
      "text/plain": [
       "   encounter_id  patient_nbr             race  gender      age weight  \\\n",
       "0       2278392      8222157        Caucasian  Female   [0-10)      ?   \n",
       "1        149190     55629189        Caucasian  Female  [10-20)      ?   \n",
       "2         64410     86047875  AfricanAmerican  Female  [20-30)      ?   \n",
       "3        500364     82442376        Caucasian    Male  [30-40)      ?   \n",
       "4         16680     42519267        Caucasian    Male  [40-50)      ?   \n",
       "\n",
       "   admission_type_id admission_type_name  discharge_disposition_id  \\\n",
       "0                  6                NULL                        25   \n",
       "1                  1           Emergency                         1   \n",
       "2                  1           Emergency                         1   \n",
       "3                  1           Emergency                         1   \n",
       "4                  1           Emergency                         1   \n",
       "\n",
       "  dischage_disposition_name  ...  citoglipton insulin  glyburide-metformin  \\\n",
       "0                Not Mapped  ...           No      No                   No   \n",
       "1        Discharged to home  ...           No      Up                   No   \n",
       "2        Discharged to home  ...           No      No                   No   \n",
       "3        Discharged to home  ...           No      Up                   No   \n",
       "4        Discharged to home  ...           No  Steady                   No   \n",
       "\n",
       "  glipizide-metformin glimepiride-pioglitazone  metformin-rosiglitazone  \\\n",
       "0                  No                       No                       No   \n",
       "1                  No                       No                       No   \n",
       "2                  No                       No                       No   \n",
       "3                  No                       No                       No   \n",
       "4                  No                       No                       No   \n",
       "\n",
       "   metformin-pioglitazone  change  diabetesMed  readmitted  \n",
       "0                      No      No           No          NO  \n",
       "1                      No      Ch          Yes         >30  \n",
       "2                      No      No          Yes          NO  \n",
       "3                      No      Ch          Yes          NO  \n",
       "4                      No      Ch          Yes          NO  \n",
       "\n",
       "[5 rows x 53 columns]"
      ]
     },
     "execution_count": 4,
     "metadata": {},
     "output_type": "execute_result"
    }
   ],
   "source": [
    "print(\"Shape of hosp_readmit_id_mapped_df is: \",(hosp_readmit_id_mapped_df.count(), len(hosp_readmit_id_mapped_df.columns)))\n",
    "hosp_readmit_id_mapped_df.toPandas().head()"
   ]
  },
  {
   "cell_type": "markdown",
   "metadata": {},
   "source": [
    "##### We can observe a lot of special character \"?\" values in the dataset, \n",
    "#### Replacing special character '?' with Null"
   ]
  },
  {
   "cell_type": "code",
   "execution_count": 5,
   "metadata": {},
   "outputs": [],
   "source": [
    "hosp_readmit_id_mapped_df = hosp_readmit_id_mapped_df.select([fn.when(fn.col(c) == '?',None).otherwise(fn.col(c)).alias(c) for c in hosp_readmit_id_mapped_df.columns])"
   ]
  },
  {
   "cell_type": "markdown",
   "metadata": {},
   "source": [
    "###### Printing Head and Shape of DF after replacing \"?\" with NULL"
   ]
  },
  {
   "cell_type": "code",
   "execution_count": 6,
   "metadata": {},
   "outputs": [
    {
     "name": "stdout",
     "output_type": "stream",
     "text": [
      "Shape of hosp_readmit_id_mapped_df after replacing ? is:  (101766, 53)\n"
     ]
    },
    {
     "data": {
      "text/html": [
       "<div>\n",
       "<style scoped>\n",
       "    .dataframe tbody tr th:only-of-type {\n",
       "        vertical-align: middle;\n",
       "    }\n",
       "\n",
       "    .dataframe tbody tr th {\n",
       "        vertical-align: top;\n",
       "    }\n",
       "\n",
       "    .dataframe thead th {\n",
       "        text-align: right;\n",
       "    }\n",
       "</style>\n",
       "<table border=\"1\" class=\"dataframe\">\n",
       "  <thead>\n",
       "    <tr style=\"text-align: right;\">\n",
       "      <th></th>\n",
       "      <th>encounter_id</th>\n",
       "      <th>patient_nbr</th>\n",
       "      <th>race</th>\n",
       "      <th>gender</th>\n",
       "      <th>age</th>\n",
       "      <th>weight</th>\n",
       "      <th>admission_type_id</th>\n",
       "      <th>admission_type_name</th>\n",
       "      <th>discharge_disposition_id</th>\n",
       "      <th>dischage_disposition_name</th>\n",
       "      <th>...</th>\n",
       "      <th>citoglipton</th>\n",
       "      <th>insulin</th>\n",
       "      <th>glyburide-metformin</th>\n",
       "      <th>glipizide-metformin</th>\n",
       "      <th>glimepiride-pioglitazone</th>\n",
       "      <th>metformin-rosiglitazone</th>\n",
       "      <th>metformin-pioglitazone</th>\n",
       "      <th>change</th>\n",
       "      <th>diabetesMed</th>\n",
       "      <th>readmitted</th>\n",
       "    </tr>\n",
       "  </thead>\n",
       "  <tbody>\n",
       "    <tr>\n",
       "      <td>0</td>\n",
       "      <td>2278392</td>\n",
       "      <td>8222157</td>\n",
       "      <td>Caucasian</td>\n",
       "      <td>Female</td>\n",
       "      <td>[0-10)</td>\n",
       "      <td>None</td>\n",
       "      <td>6</td>\n",
       "      <td>NULL</td>\n",
       "      <td>25</td>\n",
       "      <td>Not Mapped</td>\n",
       "      <td>...</td>\n",
       "      <td>No</td>\n",
       "      <td>No</td>\n",
       "      <td>No</td>\n",
       "      <td>No</td>\n",
       "      <td>No</td>\n",
       "      <td>No</td>\n",
       "      <td>No</td>\n",
       "      <td>No</td>\n",
       "      <td>No</td>\n",
       "      <td>NO</td>\n",
       "    </tr>\n",
       "    <tr>\n",
       "      <td>1</td>\n",
       "      <td>149190</td>\n",
       "      <td>55629189</td>\n",
       "      <td>Caucasian</td>\n",
       "      <td>Female</td>\n",
       "      <td>[10-20)</td>\n",
       "      <td>None</td>\n",
       "      <td>1</td>\n",
       "      <td>Emergency</td>\n",
       "      <td>1</td>\n",
       "      <td>Discharged to home</td>\n",
       "      <td>...</td>\n",
       "      <td>No</td>\n",
       "      <td>Up</td>\n",
       "      <td>No</td>\n",
       "      <td>No</td>\n",
       "      <td>No</td>\n",
       "      <td>No</td>\n",
       "      <td>No</td>\n",
       "      <td>Ch</td>\n",
       "      <td>Yes</td>\n",
       "      <td>&gt;30</td>\n",
       "    </tr>\n",
       "    <tr>\n",
       "      <td>2</td>\n",
       "      <td>64410</td>\n",
       "      <td>86047875</td>\n",
       "      <td>AfricanAmerican</td>\n",
       "      <td>Female</td>\n",
       "      <td>[20-30)</td>\n",
       "      <td>None</td>\n",
       "      <td>1</td>\n",
       "      <td>Emergency</td>\n",
       "      <td>1</td>\n",
       "      <td>Discharged to home</td>\n",
       "      <td>...</td>\n",
       "      <td>No</td>\n",
       "      <td>No</td>\n",
       "      <td>No</td>\n",
       "      <td>No</td>\n",
       "      <td>No</td>\n",
       "      <td>No</td>\n",
       "      <td>No</td>\n",
       "      <td>No</td>\n",
       "      <td>Yes</td>\n",
       "      <td>NO</td>\n",
       "    </tr>\n",
       "    <tr>\n",
       "      <td>3</td>\n",
       "      <td>500364</td>\n",
       "      <td>82442376</td>\n",
       "      <td>Caucasian</td>\n",
       "      <td>Male</td>\n",
       "      <td>[30-40)</td>\n",
       "      <td>None</td>\n",
       "      <td>1</td>\n",
       "      <td>Emergency</td>\n",
       "      <td>1</td>\n",
       "      <td>Discharged to home</td>\n",
       "      <td>...</td>\n",
       "      <td>No</td>\n",
       "      <td>Up</td>\n",
       "      <td>No</td>\n",
       "      <td>No</td>\n",
       "      <td>No</td>\n",
       "      <td>No</td>\n",
       "      <td>No</td>\n",
       "      <td>Ch</td>\n",
       "      <td>Yes</td>\n",
       "      <td>NO</td>\n",
       "    </tr>\n",
       "    <tr>\n",
       "      <td>4</td>\n",
       "      <td>16680</td>\n",
       "      <td>42519267</td>\n",
       "      <td>Caucasian</td>\n",
       "      <td>Male</td>\n",
       "      <td>[40-50)</td>\n",
       "      <td>None</td>\n",
       "      <td>1</td>\n",
       "      <td>Emergency</td>\n",
       "      <td>1</td>\n",
       "      <td>Discharged to home</td>\n",
       "      <td>...</td>\n",
       "      <td>No</td>\n",
       "      <td>Steady</td>\n",
       "      <td>No</td>\n",
       "      <td>No</td>\n",
       "      <td>No</td>\n",
       "      <td>No</td>\n",
       "      <td>No</td>\n",
       "      <td>Ch</td>\n",
       "      <td>Yes</td>\n",
       "      <td>NO</td>\n",
       "    </tr>\n",
       "  </tbody>\n",
       "</table>\n",
       "<p>5 rows × 53 columns</p>\n",
       "</div>"
      ],
      "text/plain": [
       "   encounter_id  patient_nbr             race  gender      age weight  \\\n",
       "0       2278392      8222157        Caucasian  Female   [0-10)   None   \n",
       "1        149190     55629189        Caucasian  Female  [10-20)   None   \n",
       "2         64410     86047875  AfricanAmerican  Female  [20-30)   None   \n",
       "3        500364     82442376        Caucasian    Male  [30-40)   None   \n",
       "4         16680     42519267        Caucasian    Male  [40-50)   None   \n",
       "\n",
       "   admission_type_id admission_type_name  discharge_disposition_id  \\\n",
       "0                  6                NULL                        25   \n",
       "1                  1           Emergency                         1   \n",
       "2                  1           Emergency                         1   \n",
       "3                  1           Emergency                         1   \n",
       "4                  1           Emergency                         1   \n",
       "\n",
       "  dischage_disposition_name  ...  citoglipton insulin  glyburide-metformin  \\\n",
       "0                Not Mapped  ...           No      No                   No   \n",
       "1        Discharged to home  ...           No      Up                   No   \n",
       "2        Discharged to home  ...           No      No                   No   \n",
       "3        Discharged to home  ...           No      Up                   No   \n",
       "4        Discharged to home  ...           No  Steady                   No   \n",
       "\n",
       "  glipizide-metformin glimepiride-pioglitazone  metformin-rosiglitazone  \\\n",
       "0                  No                       No                       No   \n",
       "1                  No                       No                       No   \n",
       "2                  No                       No                       No   \n",
       "3                  No                       No                       No   \n",
       "4                  No                       No                       No   \n",
       "\n",
       "   metformin-pioglitazone  change  diabetesMed  readmitted  \n",
       "0                      No      No           No          NO  \n",
       "1                      No      Ch          Yes         >30  \n",
       "2                      No      No          Yes          NO  \n",
       "3                      No      Ch          Yes          NO  \n",
       "4                      No      Ch          Yes          NO  \n",
       "\n",
       "[5 rows x 53 columns]"
      ]
     },
     "execution_count": 6,
     "metadata": {},
     "output_type": "execute_result"
    }
   ],
   "source": [
    "print(\"Shape of hosp_readmit_id_mapped_df after replacing ? is: \",(hosp_readmit_id_mapped_df.count(), len(hosp_readmit_id_mapped_df.columns)))\n",
    "hosp_readmit_id_mapped_df.toPandas().head()"
   ]
  },
  {
   "cell_type": "markdown",
   "metadata": {},
   "source": [
    "## Handling DATA QUALITY ISSUES"
   ]
  },
  {
   "cell_type": "markdown",
   "metadata": {},
   "source": [
    "### A. Checking number of distinct values in each column to get rid of columns with No Variance, i.e. columns that have a single value across all the rows\n",
    "###### Such columns with no variance needs to be removed as they will have no role in explaining the target variable"
   ]
  },
  {
   "cell_type": "code",
   "execution_count": 7,
   "metadata": {
    "collapsed": true
   },
   "outputs": [
    {
     "name": "stdout",
     "output_type": "stream",
     "text": [
      "+----------------------------+---------------------------+--------------------+----------------------+-------------------+----------------------+---------------------------------+-----------------------------------+----------------------------------------+-----------------------------------------+-----------------------------------+-------------------------------------+--------------------------------+--------------------------+---------------------------------+----------------------------------+------------------------------+-------------------------------+---------------------------------+--------------------------------+--------------------------------+----------------------+----------------------+----------------------+--------------------------------+-----------------------------+-------------------------+-------------------------+---------------------------+---------------------------+------------------------------+---------------------------+-----------------------------+-------------------------+-------------------------+---------------------------+----------------------------+-----------------------------+------------------------+------------------------+----------------------------+--------------------------+-----------------------+---------------------------+-----------------------+-----------------------------------+-----------------------------------+----------------------------------------+---------------------------------------+--------------------------------------+----------------------+---------------------------+--------------------------+\n",
      "|count(DISTINCT encounter_id)|count(DISTINCT patient_nbr)|count(DISTINCT race)|count(DISTINCT gender)|count(DISTINCT age)|count(DISTINCT weight)|count(DISTINCT admission_type_id)|count(DISTINCT admission_type_name)|count(DISTINCT discharge_disposition_id)|count(DISTINCT dischage_disposition_name)|count(DISTINCT admission_source_id)|count(DISTINCT admission_source_name)|count(DISTINCT time_in_hospital)|count(DISTINCT payer_code)|count(DISTINCT medical_specialty)|count(DISTINCT num_lab_procedures)|count(DISTINCT num_procedures)|count(DISTINCT num_medications)|count(DISTINCT number_outpatient)|count(DISTINCT number_emergency)|count(DISTINCT number_inpatient)|count(DISTINCT diag_1)|count(DISTINCT diag_2)|count(DISTINCT diag_3)|count(DISTINCT number_diagnoses)|count(DISTINCT max_glu_serum)|count(DISTINCT A1Cresult)|count(DISTINCT metformin)|count(DISTINCT repaglinide)|count(DISTINCT nateglinide)|count(DISTINCT chlorpropamide)|count(DISTINCT glimepiride)|count(DISTINCT acetohexamide)|count(DISTINCT glipizide)|count(DISTINCT glyburide)|count(DISTINCT tolbutamide)|count(DISTINCT pioglitazone)|count(DISTINCT rosiglitazone)|count(DISTINCT acarbose)|count(DISTINCT miglitol)|count(DISTINCT troglitazone)|count(DISTINCT tolazamide)|count(DISTINCT examide)|count(DISTINCT citoglipton)|count(DISTINCT insulin)|count(DISTINCT glyburide-metformin)|count(DISTINCT glipizide-metformin)|count(DISTINCT glimepiride-pioglitazone)|count(DISTINCT metformin-rosiglitazone)|count(DISTINCT metformin-pioglitazone)|count(DISTINCT change)|count(DISTINCT diabetesMed)|count(DISTINCT readmitted)|\n",
      "+----------------------------+---------------------------+--------------------+----------------------+-------------------+----------------------+---------------------------------+-----------------------------------+----------------------------------------+-----------------------------------------+-----------------------------------+-------------------------------------+--------------------------------+--------------------------+---------------------------------+----------------------------------+------------------------------+-------------------------------+---------------------------------+--------------------------------+--------------------------------+----------------------+----------------------+----------------------+--------------------------------+-----------------------------+-------------------------+-------------------------+---------------------------+---------------------------+------------------------------+---------------------------+-----------------------------+-------------------------+-------------------------+---------------------------+----------------------------+-----------------------------+------------------------+------------------------+----------------------------+--------------------------+-----------------------+---------------------------+-----------------------+-----------------------------------+-----------------------------------+----------------------------------------+---------------------------------------+--------------------------------------+----------------------+---------------------------+--------------------------+\n",
      "|                      101766|                      71518|                   5|                     3|                 10|                     9|                                8|                                  8|                                      26|                                       25|                                 17|                                   17|                              14|                        17|                               72|                               118|                             7|                             75|                               39|                              33|                              21|                   716|                   748|                   789|                              16|                            4|                        4|                        4|                          4|                          4|                             4|                          4|                            2|                        4|                        4|                          2|                           4|                            4|                       4|                       4|                           2|                         3|                      1|                          1|                      4|                                  4|                                  2|                                       2|                                      2|                                     2|                     2|                          2|                         3|\n",
      "+----------------------------+---------------------------+--------------------+----------------------+-------------------+----------------------+---------------------------------+-----------------------------------+----------------------------------------+-----------------------------------------+-----------------------------------+-------------------------------------+--------------------------------+--------------------------+---------------------------------+----------------------------------+------------------------------+-------------------------------+---------------------------------+--------------------------------+--------------------------------+----------------------+----------------------+----------------------+--------------------------------+-----------------------------+-------------------------+-------------------------+---------------------------+---------------------------+------------------------------+---------------------------+-----------------------------+-------------------------+-------------------------+---------------------------+----------------------------+-----------------------------+------------------------+------------------------+----------------------------+--------------------------+-----------------------+---------------------------+-----------------------+-----------------------------------+-----------------------------------+----------------------------------------+---------------------------------------+--------------------------------------+----------------------+---------------------------+--------------------------+\n",
      "\n"
     ]
    }
   ],
   "source": [
    "hosp_readmit_id_mapped_df.select([fn.countDistinct(c) for c in hosp_readmit_id_mapped_df.columns]).show()"
   ]
  },
  {
   "cell_type": "markdown",
   "metadata": {},
   "source": [
    "###### 1. Column \"acetohexamide\" can be removed because of close to 0 variance, as almost all the values under this column are \"No\" and only 1 value is \"Steady\""
   ]
  },
  {
   "cell_type": "code",
   "execution_count": 8,
   "metadata": {
    "scrolled": false
   },
   "outputs": [
    {
     "name": "stdout",
     "output_type": "stream",
     "text": [
      "+-------------+------+\n",
      "|acetohexamide| count|\n",
      "+-------------+------+\n",
      "|       Steady|     1|\n",
      "|           No|101765|\n",
      "+-------------+------+\n",
      "\n"
     ]
    }
   ],
   "source": [
    "hosp_readmit_id_mapped_df.groupBy(\"acetohexamide\").count().show()"
   ]
  },
  {
   "cell_type": "markdown",
   "metadata": {},
   "source": [
    "###### 2. Column \"tolbutamide\" can be removed because of close to 0 variance"
   ]
  },
  {
   "cell_type": "code",
   "execution_count": 9,
   "metadata": {
    "scrolled": false
   },
   "outputs": [
    {
     "name": "stdout",
     "output_type": "stream",
     "text": [
      "+-----------+------+\n",
      "|tolbutamide| count|\n",
      "+-----------+------+\n",
      "|     Steady|    23|\n",
      "|         No|101743|\n",
      "+-----------+------+\n",
      "\n"
     ]
    }
   ],
   "source": [
    "hosp_readmit_id_mapped_df.groupBy(\"tolbutamide\").count().show()"
   ]
  },
  {
   "cell_type": "markdown",
   "metadata": {},
   "source": [
    "###### 3. Column \"troglitazone\" can be removed because of close to 0 variance"
   ]
  },
  {
   "cell_type": "code",
   "execution_count": 10,
   "metadata": {
    "scrolled": false
   },
   "outputs": [
    {
     "name": "stdout",
     "output_type": "stream",
     "text": [
      "+------------+------+\n",
      "|troglitazone| count|\n",
      "+------------+------+\n",
      "|      Steady|     3|\n",
      "|          No|101763|\n",
      "+------------+------+\n",
      "\n"
     ]
    }
   ],
   "source": [
    "hosp_readmit_id_mapped_df.groupBy(\"troglitazone\").count().show()"
   ]
  },
  {
   "cell_type": "markdown",
   "metadata": {},
   "source": [
    "###### 4. Column \"tolazamide\" can be removed because of close to 0 variance"
   ]
  },
  {
   "cell_type": "code",
   "execution_count": 11,
   "metadata": {
    "scrolled": false
   },
   "outputs": [
    {
     "name": "stdout",
     "output_type": "stream",
     "text": [
      "+----------+------+\n",
      "|tolazamide| count|\n",
      "+----------+------+\n",
      "|    Steady|    38|\n",
      "|        Up|     1|\n",
      "|        No|101727|\n",
      "+----------+------+\n",
      "\n"
     ]
    }
   ],
   "source": [
    "hosp_readmit_id_mapped_df.groupBy(\"tolazamide\").count().show()"
   ]
  },
  {
   "cell_type": "markdown",
   "metadata": {},
   "source": [
    "###### 5. Column \"examide\" can be removed because of  0 variance"
   ]
  },
  {
   "cell_type": "code",
   "execution_count": 12,
   "metadata": {
    "scrolled": false
   },
   "outputs": [
    {
     "name": "stdout",
     "output_type": "stream",
     "text": [
      "+-------+------+\n",
      "|examide| count|\n",
      "+-------+------+\n",
      "|     No|101766|\n",
      "+-------+------+\n",
      "\n"
     ]
    }
   ],
   "source": [
    "hosp_readmit_id_mapped_df.groupBy(\"examide\").count().show()"
   ]
  },
  {
   "cell_type": "markdown",
   "metadata": {},
   "source": [
    "###### 6. Column \"citoglipton\" can be removed because of  0 variance"
   ]
  },
  {
   "cell_type": "code",
   "execution_count": 13,
   "metadata": {
    "scrolled": false
   },
   "outputs": [
    {
     "name": "stdout",
     "output_type": "stream",
     "text": [
      "+-----------+------+\n",
      "|citoglipton| count|\n",
      "+-----------+------+\n",
      "|         No|101766|\n",
      "+-----------+------+\n",
      "\n"
     ]
    }
   ],
   "source": [
    "hosp_readmit_id_mapped_df.groupBy(\"citoglipton\").count().show()"
   ]
  },
  {
   "cell_type": "markdown",
   "metadata": {},
   "source": [
    "###### 7. Column \"glipizide-metformin\" can be removed because of close to  0 variance"
   ]
  },
  {
   "cell_type": "code",
   "execution_count": 14,
   "metadata": {
    "scrolled": false
   },
   "outputs": [
    {
     "name": "stdout",
     "output_type": "stream",
     "text": [
      "+-------------------+------+\n",
      "|glipizide-metformin| count|\n",
      "+-------------------+------+\n",
      "|             Steady|    13|\n",
      "|                 No|101753|\n",
      "+-------------------+------+\n",
      "\n"
     ]
    }
   ],
   "source": [
    "hosp_readmit_id_mapped_df.groupBy(\"glipizide-metformin\").count().show()"
   ]
  },
  {
   "cell_type": "markdown",
   "metadata": {},
   "source": [
    "###### 8. Column \"glimepiride-pioglitazone\" can be removed because of close to  0 variance"
   ]
  },
  {
   "cell_type": "code",
   "execution_count": 15,
   "metadata": {
    "scrolled": true
   },
   "outputs": [
    {
     "name": "stdout",
     "output_type": "stream",
     "text": [
      "+------------------------+------+\n",
      "|glimepiride-pioglitazone| count|\n",
      "+------------------------+------+\n",
      "|                  Steady|     1|\n",
      "|                      No|101765|\n",
      "+------------------------+------+\n",
      "\n"
     ]
    }
   ],
   "source": [
    "hosp_readmit_id_mapped_df.groupBy(\"glimepiride-pioglitazone\").count().show()"
   ]
  },
  {
   "cell_type": "markdown",
   "metadata": {},
   "source": [
    "###### 9. Column \"metformin-rosiglitazone\" can be removed because of close to  0 variance"
   ]
  },
  {
   "cell_type": "code",
   "execution_count": 16,
   "metadata": {
    "scrolled": true
   },
   "outputs": [
    {
     "name": "stdout",
     "output_type": "stream",
     "text": [
      "+-----------------------+------+\n",
      "|metformin-rosiglitazone| count|\n",
      "+-----------------------+------+\n",
      "|                 Steady|     2|\n",
      "|                     No|101764|\n",
      "+-----------------------+------+\n",
      "\n"
     ]
    }
   ],
   "source": [
    "hosp_readmit_id_mapped_df.groupBy(\"metformin-rosiglitazone\").count().show()"
   ]
  },
  {
   "cell_type": "markdown",
   "metadata": {},
   "source": [
    "###### 10. Column \"metformin-pioglitazone\" can be removed because of close to  0 variance"
   ]
  },
  {
   "cell_type": "code",
   "execution_count": 17,
   "metadata": {
    "scrolled": false
   },
   "outputs": [
    {
     "name": "stdout",
     "output_type": "stream",
     "text": [
      "+----------------------+------+\n",
      "|metformin-pioglitazone| count|\n",
      "+----------------------+------+\n",
      "|                Steady|     1|\n",
      "|                    No|101765|\n",
      "+----------------------+------+\n",
      "\n"
     ]
    }
   ],
   "source": [
    "hosp_readmit_id_mapped_df.groupBy(\"metformin-pioglitazone\").count().show()"
   ]
  },
  {
   "cell_type": "markdown",
   "metadata": {},
   "source": [
    "##### DROPPING the above 10 columns"
   ]
  },
  {
   "cell_type": "code",
   "execution_count": 25,
   "metadata": {},
   "outputs": [],
   "source": [
    "columns_to_drop = ['acetohexamide','tolbutamide','troglitazone','tolazamide','examide','citoglipton','glipizide-metformin',\n",
    "                   'glimepiride-pioglitazone','metformin-rosiglitazone','metformin-pioglitazone']\n",
    "hosp_readmit_clean_df = hosp_readmit_id_mapped_df.select([column for column in hosp_readmit_id_mapped_df.columns if column not in columns_to_drop])"
   ]
  },
  {
   "cell_type": "markdown",
   "metadata": {},
   "source": [
    "##### Viewing the Shape and Head of the DF after dropping these column"
   ]
  },
  {
   "cell_type": "code",
   "execution_count": 27,
   "metadata": {
    "scrolled": true
   },
   "outputs": [
    {
     "name": "stdout",
     "output_type": "stream",
     "text": [
      "Shape of hosp_readmit_id_mapped_df after dropping is:  (101766, 43)\n"
     ]
    },
    {
     "data": {
      "text/html": [
       "<div>\n",
       "<style scoped>\n",
       "    .dataframe tbody tr th:only-of-type {\n",
       "        vertical-align: middle;\n",
       "    }\n",
       "\n",
       "    .dataframe tbody tr th {\n",
       "        vertical-align: top;\n",
       "    }\n",
       "\n",
       "    .dataframe thead th {\n",
       "        text-align: right;\n",
       "    }\n",
       "</style>\n",
       "<table border=\"1\" class=\"dataframe\">\n",
       "  <thead>\n",
       "    <tr style=\"text-align: right;\">\n",
       "      <th></th>\n",
       "      <th>encounter_id</th>\n",
       "      <th>patient_nbr</th>\n",
       "      <th>race</th>\n",
       "      <th>gender</th>\n",
       "      <th>age</th>\n",
       "      <th>weight</th>\n",
       "      <th>admission_type_id</th>\n",
       "      <th>admission_type_name</th>\n",
       "      <th>discharge_disposition_id</th>\n",
       "      <th>dischage_disposition_name</th>\n",
       "      <th>...</th>\n",
       "      <th>glyburide</th>\n",
       "      <th>pioglitazone</th>\n",
       "      <th>rosiglitazone</th>\n",
       "      <th>acarbose</th>\n",
       "      <th>miglitol</th>\n",
       "      <th>insulin</th>\n",
       "      <th>glyburide-metformin</th>\n",
       "      <th>change</th>\n",
       "      <th>diabetesMed</th>\n",
       "      <th>readmitted</th>\n",
       "    </tr>\n",
       "  </thead>\n",
       "  <tbody>\n",
       "    <tr>\n",
       "      <td>0</td>\n",
       "      <td>2278392</td>\n",
       "      <td>8222157</td>\n",
       "      <td>Caucasian</td>\n",
       "      <td>Female</td>\n",
       "      <td>[0-10)</td>\n",
       "      <td>None</td>\n",
       "      <td>6</td>\n",
       "      <td>NULL</td>\n",
       "      <td>25</td>\n",
       "      <td>Not Mapped</td>\n",
       "      <td>...</td>\n",
       "      <td>No</td>\n",
       "      <td>No</td>\n",
       "      <td>No</td>\n",
       "      <td>No</td>\n",
       "      <td>No</td>\n",
       "      <td>No</td>\n",
       "      <td>No</td>\n",
       "      <td>No</td>\n",
       "      <td>No</td>\n",
       "      <td>NO</td>\n",
       "    </tr>\n",
       "    <tr>\n",
       "      <td>1</td>\n",
       "      <td>149190</td>\n",
       "      <td>55629189</td>\n",
       "      <td>Caucasian</td>\n",
       "      <td>Female</td>\n",
       "      <td>[10-20)</td>\n",
       "      <td>None</td>\n",
       "      <td>1</td>\n",
       "      <td>Emergency</td>\n",
       "      <td>1</td>\n",
       "      <td>Discharged to home</td>\n",
       "      <td>...</td>\n",
       "      <td>No</td>\n",
       "      <td>No</td>\n",
       "      <td>No</td>\n",
       "      <td>No</td>\n",
       "      <td>No</td>\n",
       "      <td>Up</td>\n",
       "      <td>No</td>\n",
       "      <td>Ch</td>\n",
       "      <td>Yes</td>\n",
       "      <td>&gt;30</td>\n",
       "    </tr>\n",
       "    <tr>\n",
       "      <td>2</td>\n",
       "      <td>64410</td>\n",
       "      <td>86047875</td>\n",
       "      <td>AfricanAmerican</td>\n",
       "      <td>Female</td>\n",
       "      <td>[20-30)</td>\n",
       "      <td>None</td>\n",
       "      <td>1</td>\n",
       "      <td>Emergency</td>\n",
       "      <td>1</td>\n",
       "      <td>Discharged to home</td>\n",
       "      <td>...</td>\n",
       "      <td>No</td>\n",
       "      <td>No</td>\n",
       "      <td>No</td>\n",
       "      <td>No</td>\n",
       "      <td>No</td>\n",
       "      <td>No</td>\n",
       "      <td>No</td>\n",
       "      <td>No</td>\n",
       "      <td>Yes</td>\n",
       "      <td>NO</td>\n",
       "    </tr>\n",
       "    <tr>\n",
       "      <td>3</td>\n",
       "      <td>500364</td>\n",
       "      <td>82442376</td>\n",
       "      <td>Caucasian</td>\n",
       "      <td>Male</td>\n",
       "      <td>[30-40)</td>\n",
       "      <td>None</td>\n",
       "      <td>1</td>\n",
       "      <td>Emergency</td>\n",
       "      <td>1</td>\n",
       "      <td>Discharged to home</td>\n",
       "      <td>...</td>\n",
       "      <td>No</td>\n",
       "      <td>No</td>\n",
       "      <td>No</td>\n",
       "      <td>No</td>\n",
       "      <td>No</td>\n",
       "      <td>Up</td>\n",
       "      <td>No</td>\n",
       "      <td>Ch</td>\n",
       "      <td>Yes</td>\n",
       "      <td>NO</td>\n",
       "    </tr>\n",
       "    <tr>\n",
       "      <td>4</td>\n",
       "      <td>16680</td>\n",
       "      <td>42519267</td>\n",
       "      <td>Caucasian</td>\n",
       "      <td>Male</td>\n",
       "      <td>[40-50)</td>\n",
       "      <td>None</td>\n",
       "      <td>1</td>\n",
       "      <td>Emergency</td>\n",
       "      <td>1</td>\n",
       "      <td>Discharged to home</td>\n",
       "      <td>...</td>\n",
       "      <td>No</td>\n",
       "      <td>No</td>\n",
       "      <td>No</td>\n",
       "      <td>No</td>\n",
       "      <td>No</td>\n",
       "      <td>Steady</td>\n",
       "      <td>No</td>\n",
       "      <td>Ch</td>\n",
       "      <td>Yes</td>\n",
       "      <td>NO</td>\n",
       "    </tr>\n",
       "  </tbody>\n",
       "</table>\n",
       "<p>5 rows × 43 columns</p>\n",
       "</div>"
      ],
      "text/plain": [
       "   encounter_id  patient_nbr             race  gender      age weight  \\\n",
       "0       2278392      8222157        Caucasian  Female   [0-10)   None   \n",
       "1        149190     55629189        Caucasian  Female  [10-20)   None   \n",
       "2         64410     86047875  AfricanAmerican  Female  [20-30)   None   \n",
       "3        500364     82442376        Caucasian    Male  [30-40)   None   \n",
       "4         16680     42519267        Caucasian    Male  [40-50)   None   \n",
       "\n",
       "   admission_type_id admission_type_name  discharge_disposition_id  \\\n",
       "0                  6                NULL                        25   \n",
       "1                  1           Emergency                         1   \n",
       "2                  1           Emergency                         1   \n",
       "3                  1           Emergency                         1   \n",
       "4                  1           Emergency                         1   \n",
       "\n",
       "  dischage_disposition_name  ...  glyburide pioglitazone  rosiglitazone  \\\n",
       "0                Not Mapped  ...         No           No             No   \n",
       "1        Discharged to home  ...         No           No             No   \n",
       "2        Discharged to home  ...         No           No             No   \n",
       "3        Discharged to home  ...         No           No             No   \n",
       "4        Discharged to home  ...         No           No             No   \n",
       "\n",
       "  acarbose miglitol  insulin  glyburide-metformin  change  diabetesMed  \\\n",
       "0       No       No       No                   No      No           No   \n",
       "1       No       No       Up                   No      Ch          Yes   \n",
       "2       No       No       No                   No      No          Yes   \n",
       "3       No       No       Up                   No      Ch          Yes   \n",
       "4       No       No   Steady                   No      Ch          Yes   \n",
       "\n",
       "   readmitted  \n",
       "0          NO  \n",
       "1         >30  \n",
       "2          NO  \n",
       "3          NO  \n",
       "4          NO  \n",
       "\n",
       "[5 rows x 43 columns]"
      ]
     },
     "execution_count": 27,
     "metadata": {},
     "output_type": "execute_result"
    }
   ],
   "source": [
    "print(\"Shape of hosp_readmit_id_mapped_df after dropping is: \",(hosp_readmit_clean_df.count(), len(hosp_readmit_clean_df.columns)))\n",
    "hosp_readmit_clean_df.toPandas().head()"
   ]
  },
  {
   "cell_type": "markdown",
   "metadata": {},
   "source": [
    "### B. Checking number of Nulls in each of the columns\n",
    "###### There are 7 columns with NULL/missing values that need to be handled"
   ]
  },
  {
   "cell_type": "code",
   "execution_count": 28,
   "metadata": {
    "collapsed": true
   },
   "outputs": [
    {
     "name": "stdout",
     "output_type": "stream",
     "text": [
      "+------------+-----------+----+------+---+------+-----------------+-------------------+------------------------+-------------------------+-------------------+---------------------+----------------+----------+-----------------+------------------+--------------+---------------+-----------------+----------------+----------------+------+------+------+----------------+-------------+---------+---------+-----------+-----------+--------------+-----------+---------+---------+------------+-------------+--------+--------+-------+-------------------+------+-----------+----------+\n",
      "|encounter_id|patient_nbr|race|gender|age|weight|admission_type_id|admission_type_name|discharge_disposition_id|dischage_disposition_name|admission_source_id|admission_source_name|time_in_hospital|payer_code|medical_specialty|num_lab_procedures|num_procedures|num_medications|number_outpatient|number_emergency|number_inpatient|diag_1|diag_2|diag_3|number_diagnoses|max_glu_serum|A1Cresult|metformin|repaglinide|nateglinide|chlorpropamide|glimepiride|glipizide|glyburide|pioglitazone|rosiglitazone|acarbose|miglitol|insulin|glyburide-metformin|change|diabetesMed|readmitted|\n",
      "+------------+-----------+----+------+---+------+-----------------+-------------------+------------------------+-------------------------+-------------------+---------------------+----------------+----------+-----------------+------------------+--------------+---------------+-----------------+----------------+----------------+------+------+------+----------------+-------------+---------+---------+-----------+-----------+--------------+-----------+---------+---------+------------+-------------+--------+--------+-------+-------------------+------+-----------+----------+\n",
      "|           0|          0|2273|     0|  0| 98569|                0|                  0|                       0|                        0|                  0|                    0|               0|     40256|            49949|                 0|             0|              0|                0|               0|               0|    21|   358|  1423|               0|            0|        0|        0|          0|          0|             0|          0|        0|        0|           0|            0|       0|       0|      0|                  0|     0|          0|         0|\n",
      "+------------+-----------+----+------+---+------+-----------------+-------------------+------------------------+-------------------------+-------------------+---------------------+----------------+----------+-----------------+------------------+--------------+---------------+-----------------+----------------+----------------+------+------+------+----------------+-------------+---------+---------+-----------+-----------+--------------+-----------+---------+---------+------------+-------------+--------+--------+-------+-------------------+------+-----------+----------+\n",
      "\n"
     ]
    }
   ],
   "source": [
    "hosp_readmit_clean_df.select([fn.sum(fn.isnull(fn.col(c)).cast('int')).alias(c) for c in hosp_readmit_clean_df.columns]).show()"
   ]
  },
  {
   "cell_type": "markdown",
   "metadata": {},
   "source": [
    "#### 1. Dropping Weight, Payer Code, Medical Speciality columns because of a high number of missing values. \n",
    "#### 2. Also dropping encounter_id, patient_nbr, admission_type_id, discharge_disposition_id, admission_source_id because of their lack of relevance as they are primary key columns"
   ]
  },
  {
   "cell_type": "code",
   "execution_count": 31,
   "metadata": {},
   "outputs": [],
   "source": [
    "columns_to_drop = ['weight', 'payer_code', 'medical_specialty', 'encounter_id', 'patient_nbr', \n",
    "                   'admission_type_id', 'discharge_disposition_id','admission_source_id']\n",
    "hosp_readmit_clean_df = hosp_readmit_clean_df.select([column for column in hosp_readmit_clean_df.columns if column not in columns_to_drop])"
   ]
  },
  {
   "cell_type": "markdown",
   "metadata": {},
   "source": [
    "###### Printing Head and Shape after dropping more columns"
   ]
  },
  {
   "cell_type": "code",
   "execution_count": 32,
   "metadata": {
    "scrolled": true
   },
   "outputs": [
    {
     "name": "stdout",
     "output_type": "stream",
     "text": [
      "Shape of hosp_readmit_id_mapped_df after dropping more columns is:  (101766, 35)\n"
     ]
    },
    {
     "data": {
      "text/html": [
       "<div>\n",
       "<style scoped>\n",
       "    .dataframe tbody tr th:only-of-type {\n",
       "        vertical-align: middle;\n",
       "    }\n",
       "\n",
       "    .dataframe tbody tr th {\n",
       "        vertical-align: top;\n",
       "    }\n",
       "\n",
       "    .dataframe thead th {\n",
       "        text-align: right;\n",
       "    }\n",
       "</style>\n",
       "<table border=\"1\" class=\"dataframe\">\n",
       "  <thead>\n",
       "    <tr style=\"text-align: right;\">\n",
       "      <th></th>\n",
       "      <th>race</th>\n",
       "      <th>gender</th>\n",
       "      <th>age</th>\n",
       "      <th>admission_type_name</th>\n",
       "      <th>dischage_disposition_name</th>\n",
       "      <th>admission_source_name</th>\n",
       "      <th>time_in_hospital</th>\n",
       "      <th>num_lab_procedures</th>\n",
       "      <th>num_procedures</th>\n",
       "      <th>num_medications</th>\n",
       "      <th>...</th>\n",
       "      <th>glyburide</th>\n",
       "      <th>pioglitazone</th>\n",
       "      <th>rosiglitazone</th>\n",
       "      <th>acarbose</th>\n",
       "      <th>miglitol</th>\n",
       "      <th>insulin</th>\n",
       "      <th>glyburide-metformin</th>\n",
       "      <th>change</th>\n",
       "      <th>diabetesMed</th>\n",
       "      <th>readmitted</th>\n",
       "    </tr>\n",
       "  </thead>\n",
       "  <tbody>\n",
       "    <tr>\n",
       "      <td>0</td>\n",
       "      <td>Caucasian</td>\n",
       "      <td>Female</td>\n",
       "      <td>[0-10)</td>\n",
       "      <td>NULL</td>\n",
       "      <td>Not Mapped</td>\n",
       "      <td>Physician Referral</td>\n",
       "      <td>1</td>\n",
       "      <td>41</td>\n",
       "      <td>0</td>\n",
       "      <td>1</td>\n",
       "      <td>...</td>\n",
       "      <td>No</td>\n",
       "      <td>No</td>\n",
       "      <td>No</td>\n",
       "      <td>No</td>\n",
       "      <td>No</td>\n",
       "      <td>No</td>\n",
       "      <td>No</td>\n",
       "      <td>No</td>\n",
       "      <td>No</td>\n",
       "      <td>NO</td>\n",
       "    </tr>\n",
       "    <tr>\n",
       "      <td>1</td>\n",
       "      <td>Caucasian</td>\n",
       "      <td>Female</td>\n",
       "      <td>[10-20)</td>\n",
       "      <td>Emergency</td>\n",
       "      <td>Discharged to home</td>\n",
       "      <td>Emergency Room</td>\n",
       "      <td>3</td>\n",
       "      <td>59</td>\n",
       "      <td>0</td>\n",
       "      <td>18</td>\n",
       "      <td>...</td>\n",
       "      <td>No</td>\n",
       "      <td>No</td>\n",
       "      <td>No</td>\n",
       "      <td>No</td>\n",
       "      <td>No</td>\n",
       "      <td>Up</td>\n",
       "      <td>No</td>\n",
       "      <td>Ch</td>\n",
       "      <td>Yes</td>\n",
       "      <td>&gt;30</td>\n",
       "    </tr>\n",
       "    <tr>\n",
       "      <td>2</td>\n",
       "      <td>AfricanAmerican</td>\n",
       "      <td>Female</td>\n",
       "      <td>[20-30)</td>\n",
       "      <td>Emergency</td>\n",
       "      <td>Discharged to home</td>\n",
       "      <td>Emergency Room</td>\n",
       "      <td>2</td>\n",
       "      <td>11</td>\n",
       "      <td>5</td>\n",
       "      <td>13</td>\n",
       "      <td>...</td>\n",
       "      <td>No</td>\n",
       "      <td>No</td>\n",
       "      <td>No</td>\n",
       "      <td>No</td>\n",
       "      <td>No</td>\n",
       "      <td>No</td>\n",
       "      <td>No</td>\n",
       "      <td>No</td>\n",
       "      <td>Yes</td>\n",
       "      <td>NO</td>\n",
       "    </tr>\n",
       "    <tr>\n",
       "      <td>3</td>\n",
       "      <td>Caucasian</td>\n",
       "      <td>Male</td>\n",
       "      <td>[30-40)</td>\n",
       "      <td>Emergency</td>\n",
       "      <td>Discharged to home</td>\n",
       "      <td>Emergency Room</td>\n",
       "      <td>2</td>\n",
       "      <td>44</td>\n",
       "      <td>1</td>\n",
       "      <td>16</td>\n",
       "      <td>...</td>\n",
       "      <td>No</td>\n",
       "      <td>No</td>\n",
       "      <td>No</td>\n",
       "      <td>No</td>\n",
       "      <td>No</td>\n",
       "      <td>Up</td>\n",
       "      <td>No</td>\n",
       "      <td>Ch</td>\n",
       "      <td>Yes</td>\n",
       "      <td>NO</td>\n",
       "    </tr>\n",
       "    <tr>\n",
       "      <td>4</td>\n",
       "      <td>Caucasian</td>\n",
       "      <td>Male</td>\n",
       "      <td>[40-50)</td>\n",
       "      <td>Emergency</td>\n",
       "      <td>Discharged to home</td>\n",
       "      <td>Emergency Room</td>\n",
       "      <td>1</td>\n",
       "      <td>51</td>\n",
       "      <td>0</td>\n",
       "      <td>8</td>\n",
       "      <td>...</td>\n",
       "      <td>No</td>\n",
       "      <td>No</td>\n",
       "      <td>No</td>\n",
       "      <td>No</td>\n",
       "      <td>No</td>\n",
       "      <td>Steady</td>\n",
       "      <td>No</td>\n",
       "      <td>Ch</td>\n",
       "      <td>Yes</td>\n",
       "      <td>NO</td>\n",
       "    </tr>\n",
       "  </tbody>\n",
       "</table>\n",
       "<p>5 rows × 35 columns</p>\n",
       "</div>"
      ],
      "text/plain": [
       "              race  gender      age admission_type_name  \\\n",
       "0        Caucasian  Female   [0-10)                NULL   \n",
       "1        Caucasian  Female  [10-20)           Emergency   \n",
       "2  AfricanAmerican  Female  [20-30)           Emergency   \n",
       "3        Caucasian    Male  [30-40)           Emergency   \n",
       "4        Caucasian    Male  [40-50)           Emergency   \n",
       "\n",
       "  dischage_disposition_name admission_source_name  time_in_hospital  \\\n",
       "0                Not Mapped    Physician Referral                 1   \n",
       "1        Discharged to home        Emergency Room                 3   \n",
       "2        Discharged to home        Emergency Room                 2   \n",
       "3        Discharged to home        Emergency Room                 2   \n",
       "4        Discharged to home        Emergency Room                 1   \n",
       "\n",
       "   num_lab_procedures  num_procedures  num_medications  ...  glyburide  \\\n",
       "0                  41               0                1  ...         No   \n",
       "1                  59               0               18  ...         No   \n",
       "2                  11               5               13  ...         No   \n",
       "3                  44               1               16  ...         No   \n",
       "4                  51               0                8  ...         No   \n",
       "\n",
       "   pioglitazone  rosiglitazone acarbose miglitol insulin  glyburide-metformin  \\\n",
       "0            No             No       No       No      No                   No   \n",
       "1            No             No       No       No      Up                   No   \n",
       "2            No             No       No       No      No                   No   \n",
       "3            No             No       No       No      Up                   No   \n",
       "4            No             No       No       No  Steady                   No   \n",
       "\n",
       "  change diabetesMed readmitted  \n",
       "0     No          No         NO  \n",
       "1     Ch         Yes        >30  \n",
       "2     No         Yes         NO  \n",
       "3     Ch         Yes         NO  \n",
       "4     Ch         Yes         NO  \n",
       "\n",
       "[5 rows x 35 columns]"
      ]
     },
     "execution_count": 32,
     "metadata": {},
     "output_type": "execute_result"
    }
   ],
   "source": [
    "print(\"Shape of hosp_readmit_id_mapped_df after dropping more columns is: \",(hosp_readmit_clean_df.count(), len(hosp_readmit_clean_df.columns)))\n",
    "hosp_readmit_clean_df.toPandas().head()"
   ]
  },
  {
   "cell_type": "markdown",
   "metadata": {},
   "source": [
    "#### REPLACING string NULLs with Null value"
   ]
  },
  {
   "cell_type": "code",
   "execution_count": 37,
   "metadata": {},
   "outputs": [],
   "source": [
    "hosp_readmit_clean_df = hosp_readmit_clean_df.select([fn.when(fn.col(c) == 'NULL',None).otherwise(fn.col(c)).alias(c) for c in hosp_readmit_clean_df.columns])"
   ]
  },
  {
   "cell_type": "markdown",
   "metadata": {},
   "source": [
    "#### Number of NULLs in each of the 7 columns which needs to be handled"
   ]
  },
  {
   "cell_type": "code",
   "execution_count": 49,
   "metadata": {
    "scrolled": true
   },
   "outputs": [
    {
     "name": "stdout",
     "output_type": "stream",
     "text": [
      "+----+------+------+------+-------------------+-------------------------+---------------------+\n",
      "|race|diag_1|diag_2|diag_3|admission_type_name|dischage_disposition_name|admission_source_name|\n",
      "+----+------+------+------+-------------------+-------------------------+---------------------+\n",
      "|2273|    21|   358|  1423|               5291|                     3691|                 6781|\n",
      "+----+------+------+------+-------------------+-------------------------+---------------------+\n",
      "\n"
     ]
    }
   ],
   "source": [
    "na_cols = ['race','diag_1','diag_2','diag_3','admission_type_name','dischage_disposition_name','admission_source_name']\n",
    "hosp_readmit_clean_df.select([fn.sum(fn.isnull(fn.col(c)).cast('int')).alias(c) for c in na_cols]).show()"
   ]
  },
  {
   "cell_type": "markdown",
   "metadata": {},
   "source": [
    "##### 3. Handling NULL values of remaining columns having a few NAs"
   ]
  },
  {
   "cell_type": "markdown",
   "metadata": {},
   "source": [
    "#### Replace NULLs with mode values\n",
    "\n",
    "##### Creating variables with mode of each column"
   ]
  },
  {
   "cell_type": "code",
   "execution_count": 67,
   "metadata": {
    "scrolled": true
   },
   "outputs": [
    {
     "name": "stdout",
     "output_type": "stream",
     "text": [
      "Caucasian\n",
      "428\n",
      "276\n",
      "276\n",
      "Emergency\n",
      "Discharged to home\n",
      "Emergency Room\n"
     ]
    }
   ],
   "source": [
    "race_mode = hosp_readmit_clean_df.groupby('race').count().orderBy(\"count\", ascending=False).first()[0]\n",
    "print(race_mode)\n",
    "diag1_mode = hosp_readmit_clean_df.groupby('diag_1').count().orderBy(\"count\", ascending=False).first()[0]\n",
    "print(diag1_mode)\n",
    "diag2_mode = hosp_readmit_clean_df.groupby('diag_2').count().orderBy(\"count\", ascending=False).first()[0]\n",
    "print(diag2_mode)\n",
    "diag3_mode = hosp_readmit_clean_df.groupby('diag_2').count().orderBy(\"count\", ascending=False).first()[0]\n",
    "print(diag3_mode)\n",
    "admission_type_mode = hosp_readmit_clean_df.groupby('admission_type_name').count().orderBy(\"count\", ascending=False).first()[0]\n",
    "print(admission_type_mode)\n",
    "dischage_disposition_mode = hosp_readmit_clean_df.groupby('dischage_disposition_name').count().orderBy(\"count\", ascending=False).first()[0]\n",
    "print(dischage_disposition_mode)\n",
    "admission_source_mode = hosp_readmit_clean_df.groupby('admission_source_name').count().orderBy(\"count\", ascending=False).first()[0].strip()\n",
    "print(admission_source_mode)"
   ]
  },
  {
   "cell_type": "markdown",
   "metadata": {},
   "source": [
    "###### Creating final dataframe with all the columns"
   ]
  },
  {
   "cell_type": "code",
   "execution_count": 76,
   "metadata": {},
   "outputs": [],
   "source": [
    "hosp_readmit_cleaned_df = hosp_readmit_clean_df.select(\n",
    "fn.when(fn.isnull(fn.col('race')),race_mode).otherwise(fn.col('race')).alias('race'),\n",
    "fn.when(fn.isnull(fn.col('diag_1')),diag1_mode).otherwise(fn.col('diag_1')).alias('diag_1'),\n",
    "fn.when(fn.isnull(fn.col('diag_2')),diag2_mode).otherwise(fn.col('diag_2')).alias('diag_2'),\n",
    "fn.when(fn.isnull(fn.col('diag_3')),diag3_mode).otherwise(fn.col('diag_3')).alias('diag_3'),\n",
    "fn.when(fn.isnull(fn.col('admission_type_name')),admission_type_mode).otherwise(fn.col('admission_type_name')).alias('admission_type_name'),\n",
    "fn.when(fn.isnull(fn.col('dischage_disposition_name')),dischage_disposition_mode).otherwise(fn.col('dischage_disposition_name')).alias('dischage_disposition_name'),\n",
    "fn.when(fn.isnull(fn.col('admission_source_name')),admission_source_mode).otherwise(fn.col('admission_source_name')).alias('admission_source_name'),\n",
    "'gender',\n",
    "'age',\n",
    "fn.col('time_in_hospital').cast('int').alias('time_in_hospital'),\n",
    "fn.col('num_lab_procedures').cast('int').alias('num_lab_procedures'),\n",
    "fn.col('num_procedures').cast('int').alias('num_procedures'),\n",
    "fn.col('num_medications').cast('int').alias('num_medications'),\n",
    "fn.col('number_outpatient').cast('int').alias('number_outpatient'),\n",
    "fn.col('number_emergency').cast('int').alias('number_emergency'),\n",
    "fn.col('number_inpatient').cast('int').alias('number_inpatient'),\n",
    "fn.col('number_diagnoses').cast('int').alias('number_diagnoses'),\n",
    "'max_glu_serum',\n",
    "'A1Cresult',\n",
    "'metformin',\n",
    "'repaglinide',\n",
    "'nateglinide',\n",
    "'chlorpropamide',\n",
    "'glimepiride',\n",
    "'glipizide',\n",
    "'glyburide',\n",
    "'pioglitazone',\n",
    "'rosiglitazone',\n",
    "'acarbose',\n",
    "'miglitol',\n",
    "'insulin',\n",
    "'glyburide-metformin',\n",
    "'change',\n",
    "'diabetesMed',\n",
    "fn.when('readmitted')"
   ]
  },
  {
   "cell_type": "markdown",
   "metadata": {},
   "source": [
    "##### VERIFYING that final dataframe has no NULL values, all the counts should be 0"
   ]
  },
  {
   "cell_type": "code",
   "execution_count": 74,
   "metadata": {},
   "outputs": [
    {
     "name": "stdout",
     "output_type": "stream",
     "text": [
      "+----+------+------+------+-------------------+-------------------------+---------------------+------+---+----------------+------------------+--------------+---------------+-----------------+----------------+----------------+----------------+-------------+---------+---------+-----------+-----------+--------------+-----------+---------+---------+------------+-------------+--------+--------+-------+-------------------+------+-----------+----------+\n",
      "|race|diag_1|diag_2|diag_3|admission_type_name|dischage_disposition_name|admission_source_name|gender|age|time_in_hospital|num_lab_procedures|num_procedures|num_medications|number_outpatient|number_emergency|number_inpatient|number_diagnoses|max_glu_serum|A1Cresult|metformin|repaglinide|nateglinide|chlorpropamide|glimepiride|glipizide|glyburide|pioglitazone|rosiglitazone|acarbose|miglitol|insulin|glyburide-metformin|change|diabetesMed|readmitted|\n",
      "+----+------+------+------+-------------------+-------------------------+---------------------+------+---+----------------+------------------+--------------+---------------+-----------------+----------------+----------------+----------------+-------------+---------+---------+-----------+-----------+--------------+-----------+---------+---------+------------+-------------+--------+--------+-------+-------------------+------+-----------+----------+\n",
      "|   0|     0|     0|     0|                  0|                        0|                    0|     0|  0|               0|                 0|             0|              0|                0|               0|               0|               0|            0|        0|        0|          0|          0|             0|          0|        0|        0|           0|            0|       0|       0|      0|                  0|     0|          0|         0|\n",
      "+----+------+------+------+-------------------+-------------------------+---------------------+------+---+----------------+------------------+--------------+---------------+-----------------+----------------+----------------+----------------+-------------+---------+---------+-----------+-----------+--------------+-----------+---------+---------+------------+-------------+--------+--------+-------+-------------------+------+-----------+----------+\n",
      "\n"
     ]
    }
   ],
   "source": [
    "hosp_readmit_cleaned_df.select([fn.sum(fn.isnull(fn.col(c)).cast('int')).alias(c) for c in hosp_readmit_cleaned_df.columns]).show()"
   ]
  },
  {
   "cell_type": "markdown",
   "metadata": {},
   "source": [
    "#### Checking Datatype of all the columns and ensuring they are correct"
   ]
  },
  {
   "cell_type": "code",
   "execution_count": 82,
   "metadata": {
    "collapsed": true
   },
   "outputs": [
    {
     "data": {
      "text/plain": [
       "[('race', 'string'),\n",
       " ('diag_1', 'string'),\n",
       " ('diag_2', 'string'),\n",
       " ('diag_3', 'string'),\n",
       " ('admission_type_name', 'string'),\n",
       " ('dischage_disposition_name', 'string'),\n",
       " ('admission_source_name', 'string'),\n",
       " ('gender', 'string'),\n",
       " ('age', 'string'),\n",
       " ('time_in_hospital', 'int'),\n",
       " ('num_lab_procedures', 'int'),\n",
       " ('num_procedures', 'int'),\n",
       " ('num_medications', 'int'),\n",
       " ('number_outpatient', 'int'),\n",
       " ('number_emergency', 'int'),\n",
       " ('number_inpatient', 'int'),\n",
       " ('number_diagnoses', 'int'),\n",
       " ('max_glu_serum', 'string'),\n",
       " ('A1Cresult', 'string'),\n",
       " ('metformin', 'string'),\n",
       " ('repaglinide', 'string'),\n",
       " ('nateglinide', 'string'),\n",
       " ('chlorpropamide', 'string'),\n",
       " ('glimepiride', 'string'),\n",
       " ('glipizide', 'string'),\n",
       " ('glyburide', 'string'),\n",
       " ('pioglitazone', 'string'),\n",
       " ('rosiglitazone', 'string'),\n",
       " ('acarbose', 'string'),\n",
       " ('miglitol', 'string'),\n",
       " ('insulin', 'string'),\n",
       " ('glyburide-metformin', 'string'),\n",
       " ('change', 'string'),\n",
       " ('diabetesMed', 'string'),\n",
       " ('readmitted', 'string')]"
      ]
     },
     "execution_count": 82,
     "metadata": {},
     "output_type": "execute_result"
    }
   ],
   "source": [
    "hosp_readmit_cleaned_df.dtypes"
   ]
  },
  {
   "cell_type": "markdown",
   "metadata": {},
   "source": [
    "##### PRINTING HEAD & SHAPE of final cleaned DF"
   ]
  },
  {
   "cell_type": "code",
   "execution_count": 83,
   "metadata": {
    "scrolled": true
   },
   "outputs": [
    {
     "name": "stdout",
     "output_type": "stream",
     "text": [
      "Shape of hosp_readmit_id_mapped_df after final cleaning is:  (101766, 35)\n"
     ]
    },
    {
     "data": {
      "text/html": [
       "<div>\n",
       "<style scoped>\n",
       "    .dataframe tbody tr th:only-of-type {\n",
       "        vertical-align: middle;\n",
       "    }\n",
       "\n",
       "    .dataframe tbody tr th {\n",
       "        vertical-align: top;\n",
       "    }\n",
       "\n",
       "    .dataframe thead th {\n",
       "        text-align: right;\n",
       "    }\n",
       "</style>\n",
       "<table border=\"1\" class=\"dataframe\">\n",
       "  <thead>\n",
       "    <tr style=\"text-align: right;\">\n",
       "      <th></th>\n",
       "      <th>race</th>\n",
       "      <th>diag_1</th>\n",
       "      <th>diag_2</th>\n",
       "      <th>diag_3</th>\n",
       "      <th>admission_type_name</th>\n",
       "      <th>dischage_disposition_name</th>\n",
       "      <th>admission_source_name</th>\n",
       "      <th>gender</th>\n",
       "      <th>age</th>\n",
       "      <th>time_in_hospital</th>\n",
       "      <th>...</th>\n",
       "      <th>glyburide</th>\n",
       "      <th>pioglitazone</th>\n",
       "      <th>rosiglitazone</th>\n",
       "      <th>acarbose</th>\n",
       "      <th>miglitol</th>\n",
       "      <th>insulin</th>\n",
       "      <th>glyburide-metformin</th>\n",
       "      <th>change</th>\n",
       "      <th>diabetesMed</th>\n",
       "      <th>readmitted</th>\n",
       "    </tr>\n",
       "  </thead>\n",
       "  <tbody>\n",
       "    <tr>\n",
       "      <td>0</td>\n",
       "      <td>Caucasian</td>\n",
       "      <td>250.83</td>\n",
       "      <td>276</td>\n",
       "      <td>276</td>\n",
       "      <td>Emergency</td>\n",
       "      <td>Not Mapped</td>\n",
       "      <td>Physician Referral</td>\n",
       "      <td>Female</td>\n",
       "      <td>[0-10)</td>\n",
       "      <td>1</td>\n",
       "      <td>...</td>\n",
       "      <td>No</td>\n",
       "      <td>No</td>\n",
       "      <td>No</td>\n",
       "      <td>No</td>\n",
       "      <td>No</td>\n",
       "      <td>No</td>\n",
       "      <td>No</td>\n",
       "      <td>No</td>\n",
       "      <td>No</td>\n",
       "      <td>NO</td>\n",
       "    </tr>\n",
       "    <tr>\n",
       "      <td>1</td>\n",
       "      <td>Caucasian</td>\n",
       "      <td>276</td>\n",
       "      <td>250.01</td>\n",
       "      <td>255</td>\n",
       "      <td>Emergency</td>\n",
       "      <td>Discharged to home</td>\n",
       "      <td>Emergency Room</td>\n",
       "      <td>Female</td>\n",
       "      <td>[10-20)</td>\n",
       "      <td>3</td>\n",
       "      <td>...</td>\n",
       "      <td>No</td>\n",
       "      <td>No</td>\n",
       "      <td>No</td>\n",
       "      <td>No</td>\n",
       "      <td>No</td>\n",
       "      <td>Up</td>\n",
       "      <td>No</td>\n",
       "      <td>Ch</td>\n",
       "      <td>Yes</td>\n",
       "      <td>&gt;30</td>\n",
       "    </tr>\n",
       "    <tr>\n",
       "      <td>2</td>\n",
       "      <td>AfricanAmerican</td>\n",
       "      <td>648</td>\n",
       "      <td>250</td>\n",
       "      <td>V27</td>\n",
       "      <td>Emergency</td>\n",
       "      <td>Discharged to home</td>\n",
       "      <td>Emergency Room</td>\n",
       "      <td>Female</td>\n",
       "      <td>[20-30)</td>\n",
       "      <td>2</td>\n",
       "      <td>...</td>\n",
       "      <td>No</td>\n",
       "      <td>No</td>\n",
       "      <td>No</td>\n",
       "      <td>No</td>\n",
       "      <td>No</td>\n",
       "      <td>No</td>\n",
       "      <td>No</td>\n",
       "      <td>No</td>\n",
       "      <td>Yes</td>\n",
       "      <td>NO</td>\n",
       "    </tr>\n",
       "    <tr>\n",
       "      <td>3</td>\n",
       "      <td>Caucasian</td>\n",
       "      <td>8</td>\n",
       "      <td>250.43</td>\n",
       "      <td>403</td>\n",
       "      <td>Emergency</td>\n",
       "      <td>Discharged to home</td>\n",
       "      <td>Emergency Room</td>\n",
       "      <td>Male</td>\n",
       "      <td>[30-40)</td>\n",
       "      <td>2</td>\n",
       "      <td>...</td>\n",
       "      <td>No</td>\n",
       "      <td>No</td>\n",
       "      <td>No</td>\n",
       "      <td>No</td>\n",
       "      <td>No</td>\n",
       "      <td>Up</td>\n",
       "      <td>No</td>\n",
       "      <td>Ch</td>\n",
       "      <td>Yes</td>\n",
       "      <td>NO</td>\n",
       "    </tr>\n",
       "    <tr>\n",
       "      <td>4</td>\n",
       "      <td>Caucasian</td>\n",
       "      <td>197</td>\n",
       "      <td>157</td>\n",
       "      <td>250</td>\n",
       "      <td>Emergency</td>\n",
       "      <td>Discharged to home</td>\n",
       "      <td>Emergency Room</td>\n",
       "      <td>Male</td>\n",
       "      <td>[40-50)</td>\n",
       "      <td>1</td>\n",
       "      <td>...</td>\n",
       "      <td>No</td>\n",
       "      <td>No</td>\n",
       "      <td>No</td>\n",
       "      <td>No</td>\n",
       "      <td>No</td>\n",
       "      <td>Steady</td>\n",
       "      <td>No</td>\n",
       "      <td>Ch</td>\n",
       "      <td>Yes</td>\n",
       "      <td>NO</td>\n",
       "    </tr>\n",
       "  </tbody>\n",
       "</table>\n",
       "<p>5 rows × 35 columns</p>\n",
       "</div>"
      ],
      "text/plain": [
       "              race  diag_1  diag_2 diag_3 admission_type_name  \\\n",
       "0        Caucasian  250.83     276    276           Emergency   \n",
       "1        Caucasian     276  250.01    255           Emergency   \n",
       "2  AfricanAmerican     648     250    V27           Emergency   \n",
       "3        Caucasian       8  250.43    403           Emergency   \n",
       "4        Caucasian     197     157    250           Emergency   \n",
       "\n",
       "  dischage_disposition_name admission_source_name  gender      age  \\\n",
       "0                Not Mapped    Physician Referral  Female   [0-10)   \n",
       "1        Discharged to home        Emergency Room  Female  [10-20)   \n",
       "2        Discharged to home        Emergency Room  Female  [20-30)   \n",
       "3        Discharged to home        Emergency Room    Male  [30-40)   \n",
       "4        Discharged to home        Emergency Room    Male  [40-50)   \n",
       "\n",
       "   time_in_hospital  ...  glyburide  pioglitazone  rosiglitazone  acarbose  \\\n",
       "0                 1  ...         No            No             No        No   \n",
       "1                 3  ...         No            No             No        No   \n",
       "2                 2  ...         No            No             No        No   \n",
       "3                 2  ...         No            No             No        No   \n",
       "4                 1  ...         No            No             No        No   \n",
       "\n",
       "   miglitol  insulin  glyburide-metformin change diabetesMed readmitted  \n",
       "0        No       No                   No     No          No         NO  \n",
       "1        No       Up                   No     Ch         Yes        >30  \n",
       "2        No       No                   No     No         Yes         NO  \n",
       "3        No       Up                   No     Ch         Yes         NO  \n",
       "4        No   Steady                   No     Ch         Yes         NO  \n",
       "\n",
       "[5 rows x 35 columns]"
      ]
     },
     "execution_count": 83,
     "metadata": {},
     "output_type": "execute_result"
    }
   ],
   "source": [
    "print(\"Shape of hosp_readmit_id_mapped_df after final cleaning is: \",(hosp_readmit_cleaned_df.count(), len(hosp_readmit_cleaned_df.columns)))\n",
    "hosp_readmit_cleaned_df.toPandas().head()"
   ]
  },
  {
   "cell_type": "markdown",
   "metadata": {},
   "source": [
    "### Plotting Histogram of Numeric Variables to view the distribution"
   ]
  },
  {
   "cell_type": "markdown",
   "metadata": {},
   "source": [
    "##### Creating individual lists of all numeric variables"
   ]
  },
  {
   "cell_type": "code",
   "execution_count": 98,
   "metadata": {
    "scrolled": true
   },
   "outputs": [],
   "source": [
    "num_lab_procedures = hosp_readmit_cleaned_df.select('num_lab_procedures').collect()\n",
    "num_lab_procedures_list = [num_lab_procedures[0].num_lab_procedures]\n",
    "for i in range(1,len(num_lab_procedures)):\n",
    "    num_lab_procedures_list.append(num_lab_procedures[i].num_lab_procedures)\n",
    "    \n",
    "num_procedures = hosp_readmit_cleaned_df.select('num_procedures').collect()\n",
    "num_procedures_list = [num_procedures[0].num_procedures]\n",
    "for i in range(1,len(num_procedures)):\n",
    "    num_procedures_list.append(num_procedures[i].num_procedures)\n",
    "    \n",
    "num_medications = hosp_readmit_cleaned_df.select('num_medications').collect()\n",
    "num_medications_list = [num_medications[0].num_medications]\n",
    "for i in range(1,len(num_medications)):\n",
    "    num_medications_list.append(num_medications[i].num_medications)\n",
    "    \n",
    "number_emergency = hosp_readmit_cleaned_df.select('number_emergency').collect()\n",
    "number_emergency_list = [number_emergency[0].number_emergency]\n",
    "for i in range(1,len(number_emergency)):\n",
    "    number_emergency_list.append(number_emergency[i].number_emergency)\n",
    "    \n",
    "number_inpatient = hosp_readmit_cleaned_df.select('number_inpatient').collect()\n",
    "number_inpatient_list = [number_inpatient[0].number_inpatient]\n",
    "for i in range(1,len(number_inpatient)):\n",
    "    number_inpatient_list.append(number_inpatient[i].number_inpatient)\n",
    "    \n",
    "number_diagnoses = hosp_readmit_cleaned_df.select('number_diagnoses').collect()\n",
    "number_diagnoses_list = [number_diagnoses[0].number_diagnoses]\n",
    "for i in range(1,len(number_diagnoses)):\n",
    "    number_diagnoses_list.append(number_diagnoses[i].number_diagnoses)"
   ]
  },
  {
   "cell_type": "markdown",
   "metadata": {},
   "source": [
    "##### Plotting histograms"
   ]
  },
  {
   "cell_type": "code",
   "execution_count": 99,
   "metadata": {
    "scrolled": true
   },
   "outputs": [
    {
     "data": {
      "image/png": "[encoded data removed]",
      "text/plain": [
       "<Figure size 432x288 with 6 Axes>"
      ]
     },
     "metadata": {
      "needs_background": "light"
     },
     "output_type": "display_data"
    }
   ],
   "source": [
    "figure, axes = plt.subplots(nrows=3, ncols=2)\n",
    "\n",
    "axes[0, 0].hist(num_lab_procedures_list)\n",
    "axes[0, 0].set_title('number of lab procedures')\n",
    "\n",
    "axes[0, 1].hist(num_procedures_list)\n",
    "axes[0, 1].set_title('number of procedures')\n",
    "\n",
    "axes[1, 0].hist(num_medications_list)\n",
    "axes[1, 0].set_title('number of medications')\n",
    "\n",
    "axes[1, 1].hist(number_inpatient_list)\n",
    "axes[1, 1].set_title('number inpatient')\n",
    "\n",
    "axes[2, 0].hist(number_emergency_list)\n",
    "axes[2, 0].set_title('number of emergency')\n",
    "\n",
    "axes[2, 1].hist(number_diagnoses_list)\n",
    "axes[2, 1].set_title('number of diagnoses')\n",
    "\n",
    "figure.tight_layout()\n",
    "display()"
   ]
  },
  {
   "cell_type": "markdown",
   "metadata": {},
   "source": [
    "### Writing the final cleaned dataframe to CSV"
   ]
  },
  {
   "cell_type": "code",
   "execution_count": 109,
   "metadata": {},
   "outputs": [],
   "source": [
    "hosp_readmit_cleaned_df.toPandas().to_csv('hospital_readmission_cleaned.csv', index = False)"
   ]
  },
  {
   "cell_type": "markdown",
   "metadata": {},
   "source": [
    "## END OF DATA CLEANING"
   ]
  }
 ],
 "metadata": {
  "kernelspec": {
   "display_name": "Python 3",
   "language": "python",
   "name": "python3"
  },
  "language_info": {
   "codemirror_mode": {
    "name": "ipython",
    "version": 3
   },
   "file_extension": ".py",
   "mimetype": "text/x-python",
   "name": "python",
   "nbconvert_exporter": "python",
   "pygments_lexer": "ipython3",
   "version": "3.7.4"
  }
 },
 "nbformat": 4,
 "nbformat_minor": 2
}
