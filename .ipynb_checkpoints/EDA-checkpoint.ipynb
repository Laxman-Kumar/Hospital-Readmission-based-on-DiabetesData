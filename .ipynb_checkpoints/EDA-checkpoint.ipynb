{
 "cells": [
  {
   "cell_type": "code",
   "execution_count": 1,
   "metadata": {},
   "outputs": [],
   "source": [
    "import findspark\n",
    "findspark.init()"
   ]
  },
  {
   "cell_type": "code",
   "execution_count": 2,
   "metadata": {},
   "outputs": [],
   "source": [
    "\n",
    "from pyspark.sql import SparkSession\n",
    "from pyspark.sql import Row\n",
    "from pyspark.sql.functions import isnan, isnull, when, count, col,expr\n",
    "from pyspark.sql.types import StructField, StructType, StringType, LongType,IntegerType,StringType\n",
    "from pyspark.sql import functions as fn\n",
    "from pyspark.ml import feature,regression,Pipeline\n",
    "from pyspark.sql.functions import *\n",
    "import matplotlib.pyplot as plt\n",
    "import numpy as np\n",
    "import seaborn as sns\n",
    "%matplotlib inline"
   ]
  },
  {
   "cell_type": "code",
   "execution_count": 3,
   "metadata": {},
   "outputs": [],
   "source": [
    "spark = SparkSession.builder.getOrCreate()\n",
    "sc = spark.sparkContext"
   ]
  },
  {
   "cell_type": "code",
   "execution_count": 4,
   "metadata": {},
   "outputs": [],
   "source": [
    "df = spark.read.format(\"csv\").load(\"hospital_readmission_cleaned.csv\",header=True)"
   ]
  },
  {
   "cell_type": "code",
   "execution_count": 5,
   "metadata": {},
   "outputs": [
    {
     "data": {
      "text/html": [
       "<div>\n",
       "<style scoped>\n",
       "    .dataframe tbody tr th:only-of-type {\n",
       "        vertical-align: middle;\n",
       "    }\n",
       "\n",
       "    .dataframe tbody tr th {\n",
       "        vertical-align: top;\n",
       "    }\n",
       "\n",
       "    .dataframe thead th {\n",
       "        text-align: right;\n",
       "    }\n",
       "</style>\n",
       "<table border=\"1\" class=\"dataframe\">\n",
       "  <thead>\n",
       "    <tr style=\"text-align: right;\">\n",
       "      <th></th>\n",
       "      <th>race</th>\n",
       "      <th>diag_1</th>\n",
       "      <th>diag_2</th>\n",
       "      <th>diag_3</th>\n",
       "      <th>admission_type_name</th>\n",
       "      <th>dischage_disposition_name</th>\n",
       "      <th>admission_source_name</th>\n",
       "      <th>gender</th>\n",
       "      <th>age</th>\n",
       "      <th>time_in_hospital</th>\n",
       "      <th>...</th>\n",
       "      <th>glyburide</th>\n",
       "      <th>pioglitazone</th>\n",
       "      <th>rosiglitazone</th>\n",
       "      <th>acarbose</th>\n",
       "      <th>miglitol</th>\n",
       "      <th>insulin</th>\n",
       "      <th>glyburide-metformin</th>\n",
       "      <th>change</th>\n",
       "      <th>diabetesMed</th>\n",
       "      <th>readmitted</th>\n",
       "    </tr>\n",
       "  </thead>\n",
       "  <tbody>\n",
       "    <tr>\n",
       "      <th>0</th>\n",
       "      <td>Caucasian</td>\n",
       "      <td>250.83</td>\n",
       "      <td>276</td>\n",
       "      <td>276</td>\n",
       "      <td>Emergency</td>\n",
       "      <td>Not Mapped</td>\n",
       "      <td>Physician Referral</td>\n",
       "      <td>Female</td>\n",
       "      <td>[0-10)</td>\n",
       "      <td>1</td>\n",
       "      <td>...</td>\n",
       "      <td>No</td>\n",
       "      <td>No</td>\n",
       "      <td>No</td>\n",
       "      <td>No</td>\n",
       "      <td>No</td>\n",
       "      <td>No</td>\n",
       "      <td>No</td>\n",
       "      <td>No</td>\n",
       "      <td>No</td>\n",
       "      <td>0</td>\n",
       "    </tr>\n",
       "    <tr>\n",
       "      <th>1</th>\n",
       "      <td>Caucasian</td>\n",
       "      <td>276</td>\n",
       "      <td>250.01</td>\n",
       "      <td>255</td>\n",
       "      <td>Emergency</td>\n",
       "      <td>Discharged to home</td>\n",
       "      <td>Emergency Room</td>\n",
       "      <td>Female</td>\n",
       "      <td>[10-20)</td>\n",
       "      <td>3</td>\n",
       "      <td>...</td>\n",
       "      <td>No</td>\n",
       "      <td>No</td>\n",
       "      <td>No</td>\n",
       "      <td>No</td>\n",
       "      <td>No</td>\n",
       "      <td>Up</td>\n",
       "      <td>No</td>\n",
       "      <td>Ch</td>\n",
       "      <td>Yes</td>\n",
       "      <td>1</td>\n",
       "    </tr>\n",
       "  </tbody>\n",
       "</table>\n",
       "<p>2 rows × 35 columns</p>\n",
       "</div>"
      ],
      "text/plain": [
       "        race  diag_1  diag_2 diag_3 admission_type_name  \\\n",
       "0  Caucasian  250.83     276    276           Emergency   \n",
       "1  Caucasian     276  250.01    255           Emergency   \n",
       "\n",
       "  dischage_disposition_name admission_source_name  gender      age  \\\n",
       "0                Not Mapped    Physician Referral  Female   [0-10)   \n",
       "1        Discharged to home        Emergency Room  Female  [10-20)   \n",
       "\n",
       "  time_in_hospital  ... glyburide pioglitazone rosiglitazone acarbose  \\\n",
       "0                1  ...        No           No            No       No   \n",
       "1                3  ...        No           No            No       No   \n",
       "\n",
       "  miglitol insulin glyburide-metformin change diabetesMed readmitted  \n",
       "0       No      No                  No     No          No          0  \n",
       "1       No      Up                  No     Ch         Yes          1  \n",
       "\n",
       "[2 rows x 35 columns]"
      ]
     },
     "execution_count": 5,
     "metadata": {},
     "output_type": "execute_result"
    }
   ],
   "source": [
    "df.toPandas().head(2)"
   ]
  },
  {
   "cell_type": "code",
   "execution_count": 10,
   "metadata": {},
   "outputs": [
    {
     "data": {
      "text/plain": [
       "DataFrame[summary: string, race: string, diag_1: string, diag_2: string, diag_3: string, admission_type_name: string, dischage_disposition_name: string, admission_source_name: string, gender: string, age: string, time_in_hospital: string, num_lab_procedures: string, num_procedures: string, num_medications: string, number_outpatient: string, number_emergency: string, number_inpatient: string, number_diagnoses: string, max_glu_serum: string, A1Cresult: string, metformin: string, repaglinide: string, nateglinide: string, chlorpropamide: string, glimepiride: string, glipizide: string, glyburide: string, pioglitazone: string, rosiglitazone: string, acarbose: string, miglitol: string, insulin: string, glyburide-metformin: string, change: string, diabetesMed: string, readmitted: string]"
      ]
     },
     "execution_count": 10,
     "metadata": {},
     "output_type": "execute_result"
    }
   ],
   "source": [
    "df.describe()"
   ]
  },
  {
   "cell_type": "markdown",
   "metadata": {},
   "source": [
    "## Exploratory Data Analysis"
   ]
  },
  {
   "cell_type": "markdown",
   "metadata": {},
   "source": [
    "### How the patient's are distributed w.r.t race?"
   ]
  },
  {
   "cell_type": "code",
   "execution_count": null,
   "metadata": {},
   "outputs": [],
   "source": [
    "raceDF = df.groupby(['race','readmitted']).count().toPandas().sort_values(by='count',ascending=False)\n",
    "# Create bars\n",
    "plt.figure(figsize=(12,6))\n",
    "sns.barplot(y='count',x = 'race', data = raceDF, hue ='readmitted')\n",
    "# Adding Title\n",
    "plt.title('Distribution of patients by race')\n",
    "# Show graphic\n",
    "plt.show()"
   ]
  },
  {
   "cell_type": "markdown",
   "metadata": {},
   "source": [
    "The above plot gives the information about the number of cases grouped by race.About 77% of the total cases are from 'Caucasian' race followed by 'African American' with around 18% of total cases. Only 46% of total 'Caucasian' cases were readmitted and the rest 53.5% were not readmitted. Of all the 'African American' cases, 45.7% patients were readmitted to the hospital. Both the Caucasian and African American are the major races in the dataset, about 95% of the total data belongs to these two races. 2.32% of the total data belongs to 'Hispanic' followed by 'Others' with 1.47%. Asian with the least number of cases with only 0.62% total cases."
   ]
  },
  {
   "cell_type": "code",
   "execution_count": null,
   "metadata": {},
   "outputs": [],
   "source": [
    "raceDF"
   ]
  },
  {
   "cell_type": "markdown",
   "metadata": {},
   "source": [
    "### What is the count of male and female patient's in the dataset and also among those how many have been readmitted again ?"
   ]
  },
  {
   "cell_type": "code",
   "execution_count": null,
   "metadata": {},
   "outputs": [],
   "source": [
    "genderDF = df.groupby(['gender','readmitted']).count().toPandas().sort_values(by='count',ascending=False)\n",
    "# Create bars\n",
    "plt.figure(figsize=(12,6))\n",
    "sns.barplot(y='count',x = 'gender', data = genderDF, hue ='readmitted')\n",
    "# Adding Title\n",
    "plt.title('Count of reviews by Gender')\n",
    "# Show graphic\n",
    "plt.show()"
   ]
  },
  {
   "cell_type": "markdown",
   "metadata": {},
   "source": [
    "The above plot gives the information about the count of cases by gender and and whether they are admitted again or not. The dataset is balanced w.r.t. Gender since we have around 53% Females nad 47% males. Among the female cases, around 47% cases were readmitted again on the other hand 45% of total male cases were readmitted again. "
   ]
  },
  {
   "cell_type": "code",
   "execution_count": null,
   "metadata": {},
   "outputs": [],
   "source": [
    "genderDF"
   ]
  },
  {
   "cell_type": "markdown",
   "metadata": {},
   "source": [
    "### What age group of patient are most admitted in the hospital? "
   ]
  },
  {
   "cell_type": "code",
   "execution_count": null,
   "metadata": {},
   "outputs": [],
   "source": [
    "ageDF = df.groupby(['age','readmitted']).count().toPandas().sort_values(by='age')\n",
    "ageDF1 = df.groupby(['age','gender']).count().toPandas().sort_values(by='age')\n",
    "# Create bars\n",
    "f,axes = plt.subplots(1,2,figsize=(16,6))\n",
    "g=sns.barplot(y='count',x = 'age', data = ageDF, hue ='readmitted',ax=axes[0])\n",
    "t= sns.barplot(y='count',x = 'age', data = ageDF1, hue ='gender',ax=axes[1])\n",
    "# Adding Title\n",
    "plt.title('Distribution of age-group w.r.t readmission state and age')\n",
    "# Show graphic\n",
    "plt.show()"
   ]
  },
  {
   "cell_type": "markdown",
   "metadata": {},
   "source": [
    "Given the above bar plot of age-group grouped w.r.t to readmission and gender, data is left-skewed with people within age group of 70-80 have the highest number of count in the dataset. The reason can be many and one of the reason can be since the average life span of human life in USA is approximately 78 according to CDC (link - https://www.cdc.gov/nchs/fastats/life-expectancy.htm). Number of female patient in comparison with male after 70 years of age is higher with great margin. People withing agegroup 60-70 are second most number of patient admitted to the hospital followed by age group 50-60 and 80-90."
   ]
  },
  {
   "cell_type": "code",
   "execution_count": null,
   "metadata": {},
   "outputs": [],
   "source": []
  },
  {
   "cell_type": "code",
   "execution_count": 19,
   "metadata": {},
   "outputs": [
    {
     "data": {
      "image/png": "[encoded data removed]",
      "text/plain": [
       "<Figure size 864x432 with 1 Axes>"
      ]
     },
     "metadata": {
      "needs_background": "light"
     },
     "output_type": "display_data"
    }
   ],
   "source": [
    "genderDF = df.groupby(['diabetesMed','readmitted']).count().toPandas().sort_values(by='count',ascending=False)\n",
    "# Create bars\n",
    "plt.figure(figsize=(12,6))\n",
    "sns.barplot(y='count',x = 'diabetesMed', data = genderDF, hue ='readmitted')\n",
    "# Adding Title\n",
    "plt.title('Count of reviews by Gender')\n",
    "# Show graphic\n",
    "plt.show()"
   ]
  },
  {
   "cell_type": "code",
   "execution_count": null,
   "metadata": {},
   "outputs": [],
   "source": []
  },
  {
   "cell_type": "code",
   "execution_count": 6,
   "metadata": {},
   "outputs": [
    {
     "data": {
      "text/plain": [
       "['race',\n",
       " 'diag_1',\n",
       " 'diag_2',\n",
       " 'diag_3',\n",
       " 'admission_type_name',\n",
       " 'dischage_disposition_name',\n",
       " 'admission_source_name',\n",
       " 'gender',\n",
       " 'age',\n",
       " 'time_in_hospital',\n",
       " 'num_lab_procedures',\n",
       " 'num_procedures',\n",
       " 'num_medications',\n",
       " 'number_outpatient',\n",
       " 'number_emergency',\n",
       " 'number_inpatient',\n",
       " 'number_diagnoses',\n",
       " 'max_glu_serum',\n",
       " 'A1Cresult',\n",
       " 'metformin',\n",
       " 'repaglinide',\n",
       " 'nateglinide',\n",
       " 'chlorpropamide',\n",
       " 'glimepiride',\n",
       " 'glipizide',\n",
       " 'glyburide',\n",
       " 'pioglitazone',\n",
       " 'rosiglitazone',\n",
       " 'acarbose',\n",
       " 'miglitol',\n",
       " 'insulin',\n",
       " 'glyburide-metformin',\n",
       " 'change',\n",
       " 'diabetesMed',\n",
       " 'readmitted']"
      ]
     },
     "execution_count": 6,
     "metadata": {},
     "output_type": "execute_result"
    }
   ],
   "source": [
    "df.columns"
   ]
  },
  {
   "cell_type": "code",
   "execution_count": null,
   "metadata": {},
   "outputs": [],
   "source": []
  }
 ],
 "metadata": {
  "kernelspec": {
   "display_name": "Python 3",
   "language": "python",
   "name": "python3"
  },
  "language_info": {
   "codemirror_mode": {
    "name": "ipython",
    "version": 3
   },
   "file_extension": ".py",
   "mimetype": "text/x-python",
   "name": "python",
   "nbconvert_exporter": "python",
   "pygments_lexer": "ipython3",
   "version": "3.7.5"
  }
 },
 "nbformat": 4,
 "nbformat_minor": 2
}
