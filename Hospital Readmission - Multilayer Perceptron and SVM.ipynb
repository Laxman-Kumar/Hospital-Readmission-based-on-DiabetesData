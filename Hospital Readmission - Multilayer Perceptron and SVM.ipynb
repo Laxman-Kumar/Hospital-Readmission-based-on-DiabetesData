{
 "cells": [
  {
   "cell_type": "markdown",
   "metadata": {},
   "source": [
    "### In this notebook we will build a multi-layer perceptron and SVM model for the dataset\n",
    "\n",
    "<h3>Student Name : Laxman Kumar<br> Subject Name : IST 718 Big Data Analysis <br> University : Syracuse University <br> Professor : Prof Willard E Williamson</h3>"
   ]
  },
  {
   "cell_type": "markdown",
   "metadata": {},
   "source": [
    "## Utility Function"
   ]
  },
  {
   "cell_type": "code",
   "execution_count": 1,
   "metadata": {},
   "outputs": [],
   "source": [
    "# Do not delete or change this cell\n",
    "import os\n",
    "\n",
    "# Define a function to determine if we are running on data bricks\n",
    "# Return true if running in the data bricks environment, false otherwise\n",
    "def is_databricks():\n",
    "    # get the databricks runtime version\n",
    "    db_env = os.getenv(\"DATABRICKS_RUNTIME_VERSION\")\n",
    "    \n",
    "    # if running on data bricks\n",
    "    if db_env != None:return True\n",
    "    else:return False\n",
    "\n",
    "# Define a function to read the data file.  The full path data file name is constructed\n",
    "# by checking runtime environment variables to determine if the runtime environment is \n",
    "# databricks, or a student's personal computer.  The full path file name is then constructed based on the runtime env.\n",
    "# Params data_file_name: The base name of the data file to load \n",
    "# Returns the full path file name based on the runtime env\n",
    "\n",
    "def get_training_filename(data_file_name):    \n",
    "    # if running on data bricks\n",
    "    if is_databricks():full_path_name = \"/FileStore/tables/%s\" % data_file_name\n",
    "        # build the full path file name assuming data brick env\n",
    "    # else the data is assumed to be in the same dir as this notebook\n",
    "    else:full_path_name = data_file_name\n",
    "        # Assume the student is running on their own computer and load the data\n",
    "        # file from the same dir as this notebook\n",
    "    # return the full path file name to the caller\n",
    "    return full_path_name"
   ]
  },
  {
   "cell_type": "markdown",
   "metadata": {},
   "source": [
    "## Libraries"
   ]
  },
  {
   "cell_type": "code",
   "execution_count": 2,
   "metadata": {},
   "outputs": [],
   "source": [
    "import findspark\n",
    "findspark.init()"
   ]
  },
  {
   "cell_type": "code",
   "execution_count": 3,
   "metadata": {},
   "outputs": [],
   "source": [
    "import matplotlib.pyplot as plt\n",
    "from sklearn.metrics import confusion_matrix\n",
    "import itertools\n",
    "import numpy as np\n",
    "import seaborn as sns\n",
    "%matplotlib inline"
   ]
  },
  {
   "cell_type": "code",
   "execution_count": 4,
   "metadata": {},
   "outputs": [],
   "source": [
    "from pyspark import SparkContext, SparkConf\n",
    "from pyspark.sql import Row,SQLContext,SparkSession\n",
    "from pyspark.ml.feature import StringIndexer, StandardScaler, VectorAssembler,OneHotEncoder\n",
    "from pyspark.ml import Pipeline,feature,regression\n",
    "from pyspark.sql.functions import rand\n",
    "from pyspark.mllib.evaluation import MulticlassMetrics\n",
    "from pyspark.ml.classification import LinearSVC\n",
    "from pyspark.sql.functions import isnan, isnull, when, count, col,expr\n",
    "from pyspark.sql.types import StructField, StructType, StringType, LongType,IntegerType,StringType\n",
    "from pyspark.sql import functions as fn\n",
    "from pyspark.sql.functions import *"
   ]
  },
  {
   "cell_type": "code",
   "execution_count": 5,
   "metadata": {},
   "outputs": [],
   "source": [
    "spark = SparkSession.builder.getOrCreate()\n",
    "sc = spark.sparkContext"
   ]
  },
  {
   "cell_type": "markdown",
   "metadata": {},
   "source": [
    "### Data Loading\n",
    "\n",
    "Reading cleaned csv into df using pyspark spark read function "
   ]
  },
  {
   "cell_type": "code",
   "execution_count": 6,
   "metadata": {},
   "outputs": [],
   "source": [
    "df = spark.read.format(\"csv\").load(get_training_filename(\"data/hospital_readmission_cleaned.csv\"),\n",
    "                                   header=True,inferSchema=True)"
   ]
  },
  {
   "cell_type": "markdown",
   "metadata": {},
   "source": [
    "### Function for making confusion matrix\n",
    "\n",
    "Below function is used for building confusion matrix plot using matplotlib library. The function takes confusion matrix, title and normalize as input parameter. "
   ]
  },
  {
   "cell_type": "code",
   "execution_count": 35,
   "metadata": {},
   "outputs": [],
   "source": [
    "def plot_confusion_matrix(cm,target_names,title='Confusion matrix',cmap=None,normalize=True):\n",
    "\n",
    "    accuracy = np.trace(cm) / float(np.sum(cm))\n",
    "    misclass = 1 - accuracy\n",
    "\n",
    "    if cmap is None:cmap = plt.get_cmap('Blues')\n",
    "\n",
    "    plt.figure(figsize=(12, 6))\n",
    "    plt.imshow(cm, interpolation='nearest', cmap=cmap)\n",
    "    plt.title(title)\n",
    "    plt.colorbar()\n",
    "\n",
    "    if target_names is not None:\n",
    "        tick_marks = np.arange(len(target_names))\n",
    "        plt.xticks(tick_marks, target_names, rotation=45)\n",
    "        plt.yticks(tick_marks, target_names)\n",
    "    if normalize:\n",
    "        cm = cm.astype('float') / cm.sum(axis=1)[:, np.newaxis]\n",
    "\n",
    "\n",
    "    thresh = cm.max() / 1.5 if normalize else cm.max() / 2\n",
    "    for i, j in itertools.product(range(cm.shape[0]), range(cm.shape[1])):\n",
    "        if normalize:\n",
    "            plt.text(j, i, \"{:0.4f}\".format(cm[i, j]),horizontalalignment=\"center\",fontsize=14,color=\"black\" if cm[i, j] > thresh else \"black\")\n",
    "        else:\n",
    "            plt.text(j, i, \"{:,}\".format(cm[i, j]),horizontalalignment=\"center\",fontsize=14,color=\"black\" if cm[i, j] > thresh else \"black\")\n",
    "\n",
    "\n",
    "    plt.tight_layout()\n",
    "    plt.ylabel('True label')\n",
    "    plt.xlabel('Predicted label\\naccuracy={:0.4f}; misclass={:0.4f}'.format(accuracy, misclass))\n",
    "    plt.show()"
   ]
  },
  {
   "cell_type": "markdown",
   "metadata": {},
   "source": [
    "# Building a SVM Model"
   ]
  },
  {
   "cell_type": "markdown",
   "metadata": {},
   "source": [
    "### Converting categorical variables into numerical\n",
    "\n",
    "### Defining the list of all categorical column and numerical column. Also defining string indexer object  and Onehot encoder object."
   ]
  },
  {
   "cell_type": "code",
   "execution_count": 51,
   "metadata": {},
   "outputs": [],
   "source": [
    "#List of all categorical feature columns\n",
    "categorical_columns= ['race','diag_1','diag_2','diag_3','admission_type_name','dischage_disposition_name',\n",
    "                      'admission_source_name','gender','age','max_glu_serum','insulin','change','diabetesMed']\n",
    "#List of all numerical feature column\n",
    "numerical_columns = [ 'num_lab_procedures','num_medications','number_outpatient','number_emergency',\n",
    "                      'number_inpatient','number_diagnoses']\n",
    "\n",
    "# The index of string vlaues multiple columns\n",
    "indexers = [StringIndexer(inputCol=c, outputCol=\"{0}_indexed\".format(c)) for c in categorical_columns]\n",
    "\n",
    "# The encode of indexed values multiple columns\n",
    "encoders = [OneHotEncoder(dropLast=False,\n",
    "                          inputCol=indexer.getOutputCol(),\n",
    "                          outputCol=\"{0}_encoded\".format(indexer.getOutputCol())) for indexer in indexers]"
   ]
  },
  {
   "cell_type": "markdown",
   "metadata": {},
   "source": [
    "### Making a pipeline and  fitting a pipeline, also using the fitted pipeline model to transform the data"
   ]
  },
  {
   "cell_type": "code",
   "execution_count": 52,
   "metadata": {},
   "outputs": [],
   "source": [
    "#Piepline to fit string indexer and One hot encoders\n",
    "pipeline = Pipeline(stages=indexers+encoders)\n",
    "model=pipeline.fit(df)\n",
    "\n",
    "#Creating new df using tranform of pipeline model\n",
    "hosp_readmit_df2 = model.transform(df)"
   ]
  },
  {
   "cell_type": "code",
   "execution_count": 53,
   "metadata": {},
   "outputs": [],
   "source": [
    "#Making a list of all the converted categorical columns \n",
    "assembler_inputs = [feature + \"_indexed_encoded\" for feature in categorical_columns] \n",
    "\n",
    "#List of all the columns of converted categorical columns and numerical columns\n",
    "allColumns = assembler_inputs+numerical_columns"
   ]
  },
  {
   "cell_type": "markdown",
   "metadata": {},
   "source": [
    "### Tranforming all the column using vector assembler. "
   ]
  },
  {
   "cell_type": "code",
   "execution_count": 54,
   "metadata": {},
   "outputs": [],
   "source": [
    "#Making a vector assembler object\n",
    "assembler = VectorAssembler(inputCols=allColumns, outputCol=\"assembled_inputs\") \n",
    "\n",
    "#Making a pipeline and using fitted pipeline model to transform the one hot encoded vector.\n",
    "pipe = Pipeline(stages=[assembler]).fit(hosp_readmit_df2)\n",
    "hosp_readmit__df = pipe.transform(hosp_readmit_df2).select('assembled_inputs','readmitted')"
   ]
  },
  {
   "cell_type": "markdown",
   "metadata": {},
   "source": [
    "### Splitting training and testing data"
   ]
  },
  {
   "cell_type": "code",
   "execution_count": 68,
   "metadata": {},
   "outputs": [],
   "source": [
    "train_data, test_data = hosp_readmit__df.randomSplit([.9, .1],seed=1234)"
   ]
  },
  {
   "cell_type": "markdown",
   "metadata": {},
   "source": [
    "### Making a Linear SVM object"
   ]
  },
  {
   "cell_type": "code",
   "execution_count": 69,
   "metadata": {},
   "outputs": [],
   "source": [
    "#Making a linear svm object\n",
    "svm = LinearSVC(maxIter=1500, regParam=0.01,featuresCol='assembled_inputs', labelCol='readmitted')\n",
    "\n",
    "#making a pipeline with svm object\n",
    "pipe = Pipeline(stages=[svm]).fit(train_data)"
   ]
  },
  {
   "cell_type": "markdown",
   "metadata": {},
   "source": [
    "### Using binary classification evaluator to calculate the AUC score"
   ]
  },
  {
   "cell_type": "code",
   "execution_count": 70,
   "metadata": {},
   "outputs": [
    {
     "data": {
      "text/plain": [
       "0.6881122653737856"
      ]
     },
     "execution_count": 70,
     "metadata": {},
     "output_type": "execute_result"
    }
   ],
   "source": [
    "from pyspark.ml.evaluation import BinaryClassificationEvaluator\n",
    "bce = BinaryClassificationEvaluator(labelCol='readmitted')\n",
    "bce.evaluate(pipe.transform(test_data))  "
   ]
  },
  {
   "cell_type": "markdown",
   "metadata": {},
   "source": [
    "### Predicting readmission for test data"
   ]
  },
  {
   "cell_type": "code",
   "execution_count": 71,
   "metadata": {},
   "outputs": [],
   "source": [
    "test_data_predicted = pipe.transform(test_data).select('readmitted',fn.col('prediction').cast('int').alias('prediction'))"
   ]
  },
  {
   "cell_type": "markdown",
   "metadata": {},
   "source": [
    "### Generating a classfication report"
   ]
  },
  {
   "cell_type": "code",
   "execution_count": 72,
   "metadata": {},
   "outputs": [
    {
     "name": "stdout",
     "output_type": "stream",
     "text": [
      "              precision    recall  f1-score   support\n",
      "\n",
      "           0       0.63      0.78      0.70      5532\n",
      "           1       0.64      0.47      0.54      4688\n",
      "\n",
      "    accuracy                           0.64     10220\n",
      "   macro avg       0.64      0.62      0.62     10220\n",
      "weighted avg       0.64      0.64      0.63     10220\n",
      "\n"
     ]
    }
   ],
   "source": [
    "y_true = test_data_predicted.select(['readmitted']).collect()\n",
    "y_pred = test_data_predicted.select(['prediction']).collect()\n",
    "\n",
    "from sklearn.metrics import classification_report, confusion_matrix\n",
    "print(classification_report(y_true, y_pred))"
   ]
  },
  {
   "cell_type": "markdown",
   "metadata": {},
   "source": [
    "### Making a confusion matrix plot"
   ]
  },
  {
   "cell_type": "code",
   "execution_count": 73,
   "metadata": {},
   "outputs": [
    {
     "data": {
      "image/png": "[encoded data removed]",
      "text/plain": [
       "<Figure size 864x432 with 2 Axes>"
      ]
     },
     "metadata": {
      "needs_background": "light"
     },
     "output_type": "display_data"
    }
   ],
   "source": [
    "cm =confusion_matrix(y_true, y_pred)\n",
    "plot_confusion_matrix(cm           = cm, \n",
    "                      normalize    = False,\n",
    "                      target_names = [\"0\",\"1\"],\n",
    "                      title        = \"Confusion Matrix\")"
   ]
  },
  {
   "cell_type": "code",
   "execution_count": null,
   "metadata": {},
   "outputs": [],
   "source": []
  },
  {
   "cell_type": "markdown",
   "metadata": {},
   "source": [
    "# Bulding multilayer perceptron"
   ]
  },
  {
   "cell_type": "markdown",
   "metadata": {},
   "source": [
    "### Converting categorical variables into numerical\n",
    "\n",
    "### Defining the list of all categorical column and numerical column. Also defining string indexer object  and Onehot encoder object."
   ]
  },
  {
   "cell_type": "code",
   "execution_count": 37,
   "metadata": {},
   "outputs": [],
   "source": [
    "#List of all categorical feature columns\n",
    "categorical_columns= ['race','diag_1','diag_2','admission_type_name','dischage_disposition_name',\n",
    "                      'admission_source_name','gender','age','insulin','change','diabetesMed']\n",
    "#List of all numerical feature column\n",
    "numerical_columns = [ 'num_medications','number_emergency','number_inpatient','number_diagnoses']\n",
    "\n",
    "\n",
    "# The index of string vlaues multiple columns\n",
    "indexers = [StringIndexer(inputCol=c, outputCol=\"{0}_indexed\".format(c)) for c in categorical_columns]\n",
    "\n",
    "# The encode of indexed values multiple columns\n",
    "encoders = [OneHotEncoder(dropLast=False,\n",
    "                          inputCol=indexer.getOutputCol(),\n",
    "                          outputCol=\"{0}_encoded\".format(indexer.getOutputCol())) for indexer in indexers]"
   ]
  },
  {
   "cell_type": "markdown",
   "metadata": {},
   "source": [
    "### Making a pipeline and  fitting a pipeline, also using the fitted pipeline model to transform the data"
   ]
  },
  {
   "cell_type": "code",
   "execution_count": 38,
   "metadata": {},
   "outputs": [],
   "source": [
    "#Piepline to fit string indexer and One hot encoders\n",
    "pipeline = Pipeline(stages=indexers+encoders)\n",
    "model=pipeline.fit(df)\n",
    "\n",
    "#Creating new df using tranform of pipeline model\n",
    "hosp_readmit_df2 = model.transform(df)"
   ]
  },
  {
   "cell_type": "code",
   "execution_count": 39,
   "metadata": {},
   "outputs": [],
   "source": [
    "#Making a list of all the converted categorical columns \n",
    "assembler_inputs = [feature + \"_indexed_encoded\" for feature in categorical_columns] \n",
    "\n",
    "#List of all the columns of converted categorical columns and numerical columns\n",
    "allColumns = assembler_inputs+numerical_columns"
   ]
  },
  {
   "cell_type": "markdown",
   "metadata": {},
   "source": [
    "### Tranforming all the column using vector assembler. "
   ]
  },
  {
   "cell_type": "code",
   "execution_count": 40,
   "metadata": {},
   "outputs": [],
   "source": [
    "#Making a vector assembler object\n",
    "assembler = VectorAssembler(inputCols=allColumns, outputCol=\"assembled_inputs\") \n",
    "\n",
    "#Making a pipeline and using fitted pipeline model to transform the one hot encoded vector.\n",
    "pipe = Pipeline(stages=[assembler]).fit(hosp_readmit_df2)\n",
    "hosp_readmit__df = pipe.transform(hosp_readmit_df2).select('assembled_inputs','readmitted')"
   ]
  },
  {
   "cell_type": "markdown",
   "metadata": {},
   "source": [
    "### Splitting training and testing data"
   ]
  },
  {
   "cell_type": "code",
   "execution_count": 41,
   "metadata": {},
   "outputs": [],
   "source": [
    "train_data, test_data = hosp_readmit__df.randomSplit([.7, .3],seed=1234)"
   ]
  },
  {
   "cell_type": "code",
   "execution_count": 42,
   "metadata": {},
   "outputs": [
    {
     "data": {
      "text/plain": [
       "SparseVector(1524, {0: 1.0, 5: 1.0, 721: 1.0, 1469: 1.0, 1476: 1.0, 1500: 1.0, 1502: 1.0, 1512: 1.0, 1517: 1.0, 1518: 1.0, 1520: 20.0, 1523: 9.0})"
      ]
     },
     "execution_count": 42,
     "metadata": {},
     "output_type": "execute_result"
    }
   ],
   "source": [
    "train_data.toPandas()['assembled_inputs'][0]"
   ]
  },
  {
   "cell_type": "markdown",
   "metadata": {},
   "source": [
    "### Making a Multilayer perceptron model"
   ]
  },
  {
   "cell_type": "code",
   "execution_count": 43,
   "metadata": {},
   "outputs": [],
   "source": [
    "from pyspark.ml import classification\n",
    "mlp2 = classification.MultilayerPerceptronClassifier(seed=0,\n",
    "                                                     labelCol='readmitted',\n",
    "                                                     stepSize=0.05,\n",
    "                                                     blockSize=64).\\\n",
    "                                                     setMaxIter(200).\\\n",
    "                                                     setFeaturesCol('assembled_inputs').\\\n",
    "                                                     setLayers([1*1524, 512, 2])\n",
    "\n",
    "mlp2_model = Pipeline(stages=[mlp2]).fit(train_data)"
   ]
  },
  {
   "cell_type": "code",
   "execution_count": 44,
   "metadata": {
    "scrolled": true
   },
   "outputs": [
    {
     "name": "stdout",
     "output_type": "stream",
     "text": [
      "+--------------------+----------+--------------------+--------------------+----------+\n",
      "|    assembled_inputs|readmitted|       rawPrediction|         probability|prediction|\n",
      "+--------------------+----------+--------------------+--------------------+----------+\n",
      "|(1524,[0,5,721,14...|         0|[-1.7731795442974...|[0.39871753194284...|       1.0|\n",
      "|(1524,[0,5,721,14...|         1|[-1.9174246312514...|[0.32392847768828...|       1.0|\n",
      "|(1524,[0,5,721,14...|         1|[-1.7279356710096...|[0.41905121069942...|       1.0|\n",
      "|(1524,[0,5,721,14...|         1|[-1.6737386777179...|[0.43987743361182...|       1.0|\n",
      "|(1524,[0,5,721,14...|         1|[-1.6093832526575...|[0.44765819692737...|       1.0|\n",
      "|(1524,[0,5,721,14...|         1|[-2.0191109342547...|[0.28084263372624...|       1.0|\n",
      "|(1524,[0,5,721,14...|         0|[-1.5832085646814...|[0.45975245153210...|       1.0|\n",
      "|(1524,[0,5,721,14...|         0|[-1.6989126761726...|[0.41668530460909...|       1.0|\n",
      "|(1524,[0,5,721,14...|         0|[-1.5893044025093...|[0.46577775309743...|       1.0|\n",
      "|(1524,[0,5,721,14...|         0|[-1.7702904475941...|[0.38191317415833...|       1.0|\n",
      "+--------------------+----------+--------------------+--------------------+----------+\n",
      "only showing top 10 rows\n",
      "\n"
     ]
    }
   ],
   "source": [
    "mlp2_model.stages[0].transform(train_data).show(10)"
   ]
  },
  {
   "cell_type": "markdown",
   "metadata": {},
   "source": [
    "### Using binary classification evaluator to calculate the AUC score"
   ]
  },
  {
   "cell_type": "code",
   "execution_count": 45,
   "metadata": {},
   "outputs": [],
   "source": [
    "from pyspark.ml import evaluation\n",
    "evaluator = evaluation.MulticlassClassificationEvaluator(metricName=\"accuracy\",labelCol='readmitted')"
   ]
  },
  {
   "cell_type": "code",
   "execution_count": 46,
   "metadata": {},
   "outputs": [
    {
     "data": {
      "text/plain": [
       "0.6398274622573688"
      ]
     },
     "execution_count": 46,
     "metadata": {},
     "output_type": "execute_result"
    }
   ],
   "source": [
    "evaluator.evaluate(mlp2_model.transform(test_data))"
   ]
  },
  {
   "cell_type": "markdown",
   "metadata": {},
   "source": [
    "### Predicting readmission for test data"
   ]
  },
  {
   "cell_type": "code",
   "execution_count": 28,
   "metadata": {},
   "outputs": [],
   "source": [
    "test_data_predicted = mlp2_model.transform(test_data).select('readmitted',fn.col('prediction').cast('int').alias('prediction'))"
   ]
  },
  {
   "cell_type": "markdown",
   "metadata": {},
   "source": [
    "### Generating a classfication report"
   ]
  },
  {
   "cell_type": "code",
   "execution_count": 29,
   "metadata": {},
   "outputs": [
    {
     "name": "stdout",
     "output_type": "stream",
     "text": [
      "              precision    recall  f1-score   support\n",
      "\n",
      "           0       0.65      0.73      0.69     16511\n",
      "           1       0.63      0.54      0.58     14091\n",
      "\n",
      "    accuracy                           0.64     30602\n",
      "   macro avg       0.64      0.63      0.63     30602\n",
      "weighted avg       0.64      0.64      0.64     30602\n",
      "\n"
     ]
    }
   ],
   "source": [
    "y_true = test_data_predicted.select(['readmitted']).collect()\n",
    "y_pred = test_data_predicted.select(['prediction']).collect()\n",
    "\n",
    "from sklearn.metrics import classification_report, confusion_matrix\n",
    "print(classification_report(y_true, y_pred))"
   ]
  },
  {
   "cell_type": "code",
   "execution_count": 36,
   "metadata": {},
   "outputs": [
    {
     "data": {
      "image/png": "[encoded data removed]",
      "text/plain": [
       "<Figure size 864x432 with 2 Axes>"
      ]
     },
     "metadata": {
      "needs_background": "light"
     },
     "output_type": "display_data"
    }
   ],
   "source": [
    "from sklearn.metrics import confusion_matrix\n",
    "cm =confusion_matrix(y_true, y_pred)\n",
    "plot_confusion_matrix(cm           = cm, \n",
    "                      normalize    = False,\n",
    "                      target_names = [\"0\",\"1\"],\n",
    "                      title        = \"Confusion Matrix\")"
   ]
  },
  {
   "cell_type": "code",
   "execution_count": null,
   "metadata": {},
   "outputs": [],
   "source": []
  },
  {
   "cell_type": "code",
   "execution_count": null,
   "metadata": {},
   "outputs": [],
   "source": []
  }
 ],
 "metadata": {
  "kernelspec": {
   "display_name": "Python 3",
   "language": "python",
   "name": "python3"
  },
  "language_info": {
   "codemirror_mode": {
    "name": "ipython",
    "version": 3
   },
   "file_extension": ".py",
   "mimetype": "text/x-python",
   "name": "python",
   "nbconvert_exporter": "python",
   "pygments_lexer": "ipython3",
   "version": "3.7.5"
  }
 },
 "nbformat": 4,
 "nbformat_minor": 2
}
