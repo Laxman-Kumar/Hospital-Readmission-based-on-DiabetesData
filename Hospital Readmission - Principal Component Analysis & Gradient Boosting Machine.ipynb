{
 "cells": [
  {
   "cell_type": "markdown",
   "metadata": {},
   "source": [
    "#### IMPORTING libraries"
   ]
  },
  {
   "cell_type": "code",
   "execution_count": 1,
   "metadata": {},
   "outputs": [],
   "source": [
    "# create spark and sparkcontext objects\n",
    "from pyspark.sql import SparkSession\n",
    "from pyspark.sql import Row\n",
    "import numpy as np\n",
    "import pandas as pd\n",
    "from pyspark.sql.functions import isnan, isnull, when, count, col\n",
    "from pyspark.sql import functions as fn\n",
    "import matplotlib.pyplot as plt\n",
    "from pyspark.mllib.stat import Statistics\n",
    "from pyspark.ml import feature\n",
    "from pyspark.ml import clustering\n",
    "# Functionality for regression\n",
    "from pyspark.ml import regression\n",
    "# Funcionality for classification\n",
    "from pyspark.ml import classification\n",
    "# Object for creating sequences of transformations\n",
    "from pyspark.ml import Pipeline\n",
    "import seaborn as sns\n",
    "from pyspark.ml.feature import StandardScaler\n",
    "from math import exp, log10, fabs, atan, log\n",
    "spark = SparkSession.builder.getOrCreate()\n",
    "sc = spark.sparkContext\n",
    "from pyspark.ml.feature import VectorAssembler\n",
    "from pyspark.ml.evaluation import BinaryClassificationEvaluator\n",
    "from pyspark.ml.classification import LogisticRegression, RandomForestClassifier\n",
    "from pyspark.ml.tuning import ParamGridBuilder,CrossValidator\n",
    "import requests\n",
    "from pyspark.ml.feature import StopWordsRemover\n",
    "from pyspark.ml.feature import RegexTokenizer\n",
    "from pyspark.ml.feature import CountVectorizer\n",
    "from pyspark.ml.feature import IDF\n",
    "from pyspark.ml.classification import GBTClassifier\n",
    "from pyspark.ml import Pipeline\n",
    "from pyspark.ml.feature import StringIndexer, OneHotEncoder, VectorAssembler"
   ]
  },
  {
   "cell_type": "markdown",
   "metadata": {},
   "source": [
    "### To Read csv"
   ]
  },
  {
   "cell_type": "code",
   "execution_count": 2,
   "metadata": {},
   "outputs": [],
   "source": [
    "# Do not delete or change this cell\n",
    "\n",
    "# grading import statements\n",
    "from pyspark.sql import SparkSession\n",
    "from pyspark.sql import SQLContext\n",
    "spark = SparkSession.builder.getOrCreate()\n",
    "sc = spark.sparkContext\n",
    "sqlContext = SQLContext(sc)\n",
    "import os\n",
    "\n",
    "# Define a function to determine if we are running on data bricks\n",
    "# Return true if running in the data bricks environment, false otherwise\n",
    "def is_databricks():\n",
    "    # get the databricks runtime version\n",
    "    db_env = os.getenv(\"DATABRICKS_RUNTIME_VERSION\")\n",
    "    \n",
    "    # if running on data bricks\n",
    "    if db_env != None:\n",
    "        return True\n",
    "    else:\n",
    "        return False\n",
    "\n",
    "# Define a function to read the data file.  The full path data file name is constructed\n",
    "# by checking runtime environment variables to determine if the runtime environment is \n",
    "# databricks, or a student's personal computer.  The full path file name is then\n",
    "# constructed based on the runtime env.\n",
    "# \n",
    "# Params\n",
    "#   data_file_name: The base name of the data file to load\n",
    "# \n",
    "# Returns the full path file name based on the runtime env\n",
    "#\n",
    "# Correct Usage Example (pass ONLY the full file name):\n",
    "#   file_name_to_load = get_training_filename(\"sms_spam.csv\") # correct - pass ONLY the full file name  \n",
    "#   \n",
    "# Incorrect Usage Example\n",
    "#   file_name_to_load = get_training_filename(\"/sms_spam.csv\") # incorrect - pass ONLY the full file name\n",
    "#   file_name_to_load = get_training_filename(\"sms_spam.csv/\") # incorrect - pass ONLY the full file name\n",
    "#   file_name_to_load = get_training_filename(\"c:/users/will/data/sms_spam.csv\") incorrect -pass ONLY the full file name\n",
    "def get_training_filename(data_file_name):    \n",
    "    # if running on data bricks\n",
    "    if is_databricks():\n",
    "        # build the full path file name assuming data brick env\n",
    "        full_path_name = \"/FileStore/tables/%s\" % data_file_name\n",
    "    # else the data is assumed to be in the same dir as this notebook\n",
    "    else:\n",
    "        # Assume the student is running on their own computer and load the data\n",
    "        # file from the same dir as this notebook\n",
    "        full_path_name = data_file_name\n",
    "    \n",
    "    # return the full path file name to the caller\n",
    "    return full_path_name"
   ]
  },
  {
   "cell_type": "markdown",
   "metadata": {},
   "source": [
    "#### Reading the cleaned data"
   ]
  },
  {
   "cell_type": "code",
   "execution_count": 3,
   "metadata": {},
   "outputs": [],
   "source": [
    "hosp_readmit_df = spark.read.csv('hospital_readmission_cleaned.csv', header=True, inferSchema=True)"
   ]
  },
  {
   "cell_type": "markdown",
   "metadata": {},
   "source": [
    "#### Printing the head and shape of the dataframe"
   ]
  },
  {
   "cell_type": "code",
   "execution_count": 4,
   "metadata": {
    "scrolled": true
   },
   "outputs": [
    {
     "name": "stdout",
     "output_type": "stream",
     "text": [
      "Shape of hosp_readmit_df is:  (101766, 35)\n"
     ]
    },
    {
     "data": {
      "text/html": [
       "<div>\n",
       "<style scoped>\n",
       "    .dataframe tbody tr th:only-of-type {\n",
       "        vertical-align: middle;\n",
       "    }\n",
       "\n",
       "    .dataframe tbody tr th {\n",
       "        vertical-align: top;\n",
       "    }\n",
       "\n",
       "    .dataframe thead th {\n",
       "        text-align: right;\n",
       "    }\n",
       "</style>\n",
       "<table border=\"1\" class=\"dataframe\">\n",
       "  <thead>\n",
       "    <tr style=\"text-align: right;\">\n",
       "      <th></th>\n",
       "      <th>race</th>\n",
       "      <th>diag_1</th>\n",
       "      <th>diag_2</th>\n",
       "      <th>diag_3</th>\n",
       "      <th>admission_type_name</th>\n",
       "      <th>dischage_disposition_name</th>\n",
       "      <th>admission_source_name</th>\n",
       "      <th>gender</th>\n",
       "      <th>age</th>\n",
       "      <th>time_in_hospital</th>\n",
       "      <th>...</th>\n",
       "      <th>glyburide</th>\n",
       "      <th>pioglitazone</th>\n",
       "      <th>rosiglitazone</th>\n",
       "      <th>acarbose</th>\n",
       "      <th>miglitol</th>\n",
       "      <th>insulin</th>\n",
       "      <th>glyburide-metformin</th>\n",
       "      <th>change</th>\n",
       "      <th>diabetesMed</th>\n",
       "      <th>readmitted</th>\n",
       "    </tr>\n",
       "  </thead>\n",
       "  <tbody>\n",
       "    <tr>\n",
       "      <td>0</td>\n",
       "      <td>Caucasian</td>\n",
       "      <td>250.83</td>\n",
       "      <td>276</td>\n",
       "      <td>276</td>\n",
       "      <td>Emergency</td>\n",
       "      <td>Not Mapped</td>\n",
       "      <td>Physician Referral</td>\n",
       "      <td>Female</td>\n",
       "      <td>[0-10)</td>\n",
       "      <td>1</td>\n",
       "      <td>...</td>\n",
       "      <td>No</td>\n",
       "      <td>No</td>\n",
       "      <td>No</td>\n",
       "      <td>No</td>\n",
       "      <td>No</td>\n",
       "      <td>No</td>\n",
       "      <td>No</td>\n",
       "      <td>No</td>\n",
       "      <td>No</td>\n",
       "      <td>0</td>\n",
       "    </tr>\n",
       "    <tr>\n",
       "      <td>1</td>\n",
       "      <td>Caucasian</td>\n",
       "      <td>276</td>\n",
       "      <td>250.01</td>\n",
       "      <td>255</td>\n",
       "      <td>Emergency</td>\n",
       "      <td>Discharged to home</td>\n",
       "      <td>Emergency Room</td>\n",
       "      <td>Female</td>\n",
       "      <td>[10-20)</td>\n",
       "      <td>3</td>\n",
       "      <td>...</td>\n",
       "      <td>No</td>\n",
       "      <td>No</td>\n",
       "      <td>No</td>\n",
       "      <td>No</td>\n",
       "      <td>No</td>\n",
       "      <td>Up</td>\n",
       "      <td>No</td>\n",
       "      <td>Ch</td>\n",
       "      <td>Yes</td>\n",
       "      <td>1</td>\n",
       "    </tr>\n",
       "    <tr>\n",
       "      <td>2</td>\n",
       "      <td>AfricanAmerican</td>\n",
       "      <td>648</td>\n",
       "      <td>250</td>\n",
       "      <td>V27</td>\n",
       "      <td>Emergency</td>\n",
       "      <td>Discharged to home</td>\n",
       "      <td>Emergency Room</td>\n",
       "      <td>Female</td>\n",
       "      <td>[20-30)</td>\n",
       "      <td>2</td>\n",
       "      <td>...</td>\n",
       "      <td>No</td>\n",
       "      <td>No</td>\n",
       "      <td>No</td>\n",
       "      <td>No</td>\n",
       "      <td>No</td>\n",
       "      <td>No</td>\n",
       "      <td>No</td>\n",
       "      <td>No</td>\n",
       "      <td>Yes</td>\n",
       "      <td>0</td>\n",
       "    </tr>\n",
       "    <tr>\n",
       "      <td>3</td>\n",
       "      <td>Caucasian</td>\n",
       "      <td>8</td>\n",
       "      <td>250.43</td>\n",
       "      <td>403</td>\n",
       "      <td>Emergency</td>\n",
       "      <td>Discharged to home</td>\n",
       "      <td>Emergency Room</td>\n",
       "      <td>Male</td>\n",
       "      <td>[30-40)</td>\n",
       "      <td>2</td>\n",
       "      <td>...</td>\n",
       "      <td>No</td>\n",
       "      <td>No</td>\n",
       "      <td>No</td>\n",
       "      <td>No</td>\n",
       "      <td>No</td>\n",
       "      <td>Up</td>\n",
       "      <td>No</td>\n",
       "      <td>Ch</td>\n",
       "      <td>Yes</td>\n",
       "      <td>0</td>\n",
       "    </tr>\n",
       "    <tr>\n",
       "      <td>4</td>\n",
       "      <td>Caucasian</td>\n",
       "      <td>197</td>\n",
       "      <td>157</td>\n",
       "      <td>250</td>\n",
       "      <td>Emergency</td>\n",
       "      <td>Discharged to home</td>\n",
       "      <td>Emergency Room</td>\n",
       "      <td>Male</td>\n",
       "      <td>[40-50)</td>\n",
       "      <td>1</td>\n",
       "      <td>...</td>\n",
       "      <td>No</td>\n",
       "      <td>No</td>\n",
       "      <td>No</td>\n",
       "      <td>No</td>\n",
       "      <td>No</td>\n",
       "      <td>Steady</td>\n",
       "      <td>No</td>\n",
       "      <td>Ch</td>\n",
       "      <td>Yes</td>\n",
       "      <td>0</td>\n",
       "    </tr>\n",
       "  </tbody>\n",
       "</table>\n",
       "<p>5 rows × 35 columns</p>\n",
       "</div>"
      ],
      "text/plain": [
       "              race  diag_1  diag_2 diag_3 admission_type_name  \\\n",
       "0        Caucasian  250.83     276    276           Emergency   \n",
       "1        Caucasian     276  250.01    255           Emergency   \n",
       "2  AfricanAmerican     648     250    V27           Emergency   \n",
       "3        Caucasian       8  250.43    403           Emergency   \n",
       "4        Caucasian     197     157    250           Emergency   \n",
       "\n",
       "  dischage_disposition_name admission_source_name  gender      age  \\\n",
       "0                Not Mapped    Physician Referral  Female   [0-10)   \n",
       "1        Discharged to home        Emergency Room  Female  [10-20)   \n",
       "2        Discharged to home        Emergency Room  Female  [20-30)   \n",
       "3        Discharged to home        Emergency Room    Male  [30-40)   \n",
       "4        Discharged to home        Emergency Room    Male  [40-50)   \n",
       "\n",
       "   time_in_hospital  ...  glyburide  pioglitazone  rosiglitazone  acarbose  \\\n",
       "0                 1  ...         No            No             No        No   \n",
       "1                 3  ...         No            No             No        No   \n",
       "2                 2  ...         No            No             No        No   \n",
       "3                 2  ...         No            No             No        No   \n",
       "4                 1  ...         No            No             No        No   \n",
       "\n",
       "   miglitol  insulin  glyburide-metformin change diabetesMed readmitted  \n",
       "0        No       No                   No     No          No          0  \n",
       "1        No       Up                   No     Ch         Yes          1  \n",
       "2        No       No                   No     No         Yes          0  \n",
       "3        No       Up                   No     Ch         Yes          0  \n",
       "4        No   Steady                   No     Ch         Yes          0  \n",
       "\n",
       "[5 rows x 35 columns]"
      ]
     },
     "execution_count": 4,
     "metadata": {},
     "output_type": "execute_result"
    }
   ],
   "source": [
    "print(\"Shape of hosp_readmit_df is: \",(hosp_readmit_df.count(), len(hosp_readmit_df.columns)))\n",
    "hosp_readmit_df.toPandas().head()"
   ]
  },
  {
   "cell_type": "markdown",
   "metadata": {},
   "source": [
    "## A. Principal Component Analysis"
   ]
  },
  {
   "cell_type": "markdown",
   "metadata": {},
   "source": [
    "### 1. Removing Target Variable for PCA"
   ]
  },
  {
   "cell_type": "code",
   "execution_count": 5,
   "metadata": {},
   "outputs": [],
   "source": [
    "columns_to_drop = ['readmitted']\n",
    "hosp_readmit_df1 = hosp_readmit_df.select([c for c in hosp_readmit_df.columns if c not in columns_to_drop])"
   ]
  },
  {
   "cell_type": "markdown",
   "metadata": {},
   "source": [
    "### 2. Performing One Hot Encoding to convert all categorical variable to dummies prior to PCA, since PCA requires all the variables to be numerical\n",
    "##### The pipeline consists of an indexer which assigns indexes in the form of numbers to all the distinct categories of a column. The indexer is followed by an encoder which creates a one hot encoded vector which we will look at below"
   ]
  },
  {
   "cell_type": "code",
   "execution_count": 6,
   "metadata": {},
   "outputs": [],
   "source": [
    "categorical_columns= ['race','diag_1','diag_2','diag_3','admission_type_name','dischage_disposition_name','admission_source_name',\n",
    "               'gender','age','max_glu_serum','A1Cresult','metformin','repaglinide',\n",
    "               'nateglinide','chlorpropamide','glimepiride','glipizide','glyburide','pioglitazone','rosiglitazone','acarbose',\n",
    "               'miglitol','insulin','glyburide-metformin','change','diabetesMed']\n",
    "# The index of string vlaues multiple columns\n",
    "indexers = [\n",
    "    StringIndexer(inputCol=c, outputCol=\"{0}_indexed\".format(c))\n",
    "    for c in categorical_columns\n",
    "]\n",
    "\n",
    "# The encode of indexed values multiple columns\n",
    "encoders = [OneHotEncoder(dropLast=False,inputCol=indexer.getOutputCol(),\n",
    "            outputCol=\"{0}_encoded\".format(indexer.getOutputCol())) \n",
    "    for indexer in indexers\n",
    "]\n",
    "pipeline = Pipeline(stages=indexers+encoders)\n",
    "model=pipeline.fit(hosp_readmit_df1)\n",
    "hosp_readmit_df2 = model.transform(hosp_readmit_df1)"
   ]
  },
  {
   "cell_type": "markdown",
   "metadata": {},
   "source": [
    "#### Obtaining a list of all the encoded columns after performing one hot Encoding so as to identify the most important columns based on the absolute values of the coefficients of PC1 & PC2 loading vectors"
   ]
  },
  {
   "cell_type": "code",
   "execution_count": 7,
   "metadata": {},
   "outputs": [],
   "source": [
    "raceIdx = hosp_readmit_df2.select(\"race\",\"race_indexed\").distinct().rdd.collectAsMap()\n",
    "raceIdx =  sorted((value, \"race_\" + key) for (key, value) in raceIdx.items())\n",
    "\n",
    "diag_1Idx = hosp_readmit_df2.select(\"diag_1\",\"diag_1_indexed\").distinct().rdd.collectAsMap()\n",
    "diag_1Idx =  sorted((value, \"diag_1_\" + key) for (key, value) in diag_1Idx.items())\n",
    "\n",
    "diag_2Idx = hosp_readmit_df2.select(\"diag_2\",\"diag_2_indexed\").distinct().rdd.collectAsMap()\n",
    "diag_2Idx =  sorted((value, \"diag_2_\" + key) for (key, value) in diag_2Idx.items())\n",
    "\n",
    "diag_3Idx = hosp_readmit_df2.select(\"diag_3\",\"diag_3_indexed\").distinct().rdd.collectAsMap()\n",
    "diag_3Idx =  sorted((value, \"diag_3_\" + key) for (key, value) in diag_3Idx.items())\n",
    "\n",
    "admission_type_nameIdx = hosp_readmit_df2.select(\"admission_type_name\",\"admission_type_name_indexed\").distinct().rdd.collectAsMap()\n",
    "admission_type_nameIdx =  sorted((value, \"admission_type_name_\" + key) for (key, value) in admission_type_nameIdx.items())\n",
    "\n",
    "dischage_disposition_nameIdx = hosp_readmit_df2.select(\"dischage_disposition_name\",\"dischage_disposition_name_indexed\").distinct().rdd.collectAsMap()\n",
    "dischage_disposition_nameIdx =  sorted((value, \"dischage_disposition_name\" + key) for (key, value) in dischage_disposition_nameIdx.items())\n",
    "\n",
    "admission_source_nameIdx = hosp_readmit_df2.select(\"admission_source_name\",\"admission_source_name_indexed\").distinct().rdd.collectAsMap()\n",
    "admission_source_nameIdx =  sorted((value, \"admission_source_name\" + key) for (key, value) in admission_source_nameIdx.items())\n",
    "\n",
    "genderIdx = hosp_readmit_df2.select(\"gender\",\"gender_indexed\").distinct().rdd.collectAsMap()\n",
    "genderIdx =  sorted((value, \"gender\" + key) for (key, value) in genderIdx.items())\n",
    "\n",
    "ageIdx = hosp_readmit_df2.select(\"age\",\"age_indexed\").distinct().rdd.collectAsMap()\n",
    "ageIdx =  sorted((value, \"age\" + key) for (key, value) in ageIdx.items())\n",
    "\n",
    "ageIdx = hosp_readmit_df2.select(\"age\",\"age_indexed\").distinct().rdd.collectAsMap()\n",
    "ageIdx =  sorted((value, \"age\" + key) for (key, value) in ageIdx.items())\n",
    "\n",
    "max_glu_serumIdx = hosp_readmit_df2.select(\"max_glu_serum\",\"max_glu_serum_indexed\").distinct().rdd.collectAsMap()\n",
    "max_glu_serumIdx =  sorted((value, \"max_glu_serum\" + key) for (key, value) in max_glu_serumIdx.items())\n",
    "\n",
    "A1CresultIdx = hosp_readmit_df2.select(\"A1Cresult\",\"A1Cresult_indexed\").distinct().rdd.collectAsMap()\n",
    "A1CresultIdx =  sorted((value, \"A1Cresult\" + key) for (key, value) in A1CresultIdx.items())\n",
    "\n",
    "metforminIdx = hosp_readmit_df2.select(\"metformin\",\"metformin_indexed\").distinct().rdd.collectAsMap()\n",
    "metforminIdx =  sorted((value, \"metformin\" + key) for (key, value) in metforminIdx.items())\n",
    "\n",
    "repaglinideIdx = hosp_readmit_df2.select(\"repaglinide\",\"repaglinide_indexed\").distinct().rdd.collectAsMap()\n",
    "repaglinideIdx =  sorted((value, \"repaglinide\" + key) for (key, value) in repaglinideIdx.items())\n",
    "\n",
    "nateglinideIdx = hosp_readmit_df2.select(\"nateglinide\",\"nateglinide_indexed\").distinct().rdd.collectAsMap()\n",
    "nateglinideIdx =  sorted((value, \"nateglinide\" + key) for (key, value) in nateglinideIdx.items())\n",
    "\n",
    "chlorpropamideIdx = hosp_readmit_df2.select(\"chlorpropamide\",\"chlorpropamide_indexed\").distinct().rdd.collectAsMap()\n",
    "chlorpropamideIdx =  sorted((value, \"chlorpropamide\" + key) for (key, value) in chlorpropamideIdx.items())\n",
    "\n",
    "glimepirideIdx = hosp_readmit_df2.select(\"glimepiride\",\"glimepiride_indexed\").distinct().rdd.collectAsMap()\n",
    "glimepirideIdx =  sorted((value, \"glimepiride\" + key) for (key, value) in glimepirideIdx.items())\n",
    "\n",
    "glipizideIdx = hosp_readmit_df2.select(\"glipizide\",\"glipizide_indexed\").distinct().rdd.collectAsMap()\n",
    "glipizideIdx =  sorted((value, \"glipizide\" + key) for (key, value) in glipizideIdx.items())\n",
    "\n",
    "glyburideIdx = hosp_readmit_df2.select(\"glyburide\",\"glyburide_indexed\").distinct().rdd.collectAsMap()\n",
    "glyburideIdx =  sorted((value, \"glyburide\" + key) for (key, value) in glyburideIdx.items())\n",
    "\n",
    "pioglitazoneIdx = hosp_readmit_df2.select(\"pioglitazone\",\"pioglitazone_indexed\").distinct().rdd.collectAsMap()\n",
    "pioglitazoneIdx =  sorted((value, \"pioglitazone\" + key) for (key, value) in pioglitazoneIdx.items())\n",
    "\n",
    "rosiglitazoneIdx = hosp_readmit_df2.select(\"rosiglitazone\",\"rosiglitazone_indexed\").distinct().rdd.collectAsMap()\n",
    "rosiglitazoneIdx =  sorted((value, \"rosiglitazone\" + key) for (key, value) in rosiglitazoneIdx.items())\n",
    "\n",
    "acarboseIdx = hosp_readmit_df2.select(\"acarbose\",\"acarbose_indexed\").distinct().rdd.collectAsMap()\n",
    "acarboseIdx =  sorted((value, \"acarbose\" + key) for (key, value) in acarboseIdx.items())\n",
    "\n",
    "miglitolIdx = hosp_readmit_df2.select(\"miglitol\",\"miglitol_indexed\").distinct().rdd.collectAsMap()\n",
    "miglitolIdx =  sorted((value, \"miglitol\" + key) for (key, value) in miglitolIdx.items())\n",
    "\n",
    "insulinIdx = hosp_readmit_df2.select(\"insulin\",\"insulin_indexed\").distinct().rdd.collectAsMap()\n",
    "insulinIdx =  sorted((value, \"insulin\" + key) for (key, value) in insulinIdx.items())\n",
    "\n",
    "glyburidemetforminIdx = hosp_readmit_df2.select(\"glyburide-metformin\",\"glyburide-metformin_indexed\").distinct().rdd.collectAsMap()\n",
    "glyburidemetforminIdx =  sorted((value, \"glyburide-metformin\" + key) for (key, value) in glyburidemetforminIdx.items())\n",
    "\n",
    "changeIdx = hosp_readmit_df2.select(\"change\",\"change_indexed\").distinct().rdd.collectAsMap()\n",
    "changeIdx =  sorted((value, \"change\" + key) for (key, value) in changeIdx.items())\n",
    "\n",
    "diabetesMedIdx = hosp_readmit_df2.select(\"diabetesMed\",\"diabetesMed_indexed\").distinct().rdd.collectAsMap()\n",
    "diabetesMedIdx =  sorted((value, \"diabetesMed\" + key) for (key, value) in diabetesMedIdx.items())\n",
    "\n",
    "#newCols = list(map(lambda x: x[1], raceIdx))"
   ]
  },
  {
   "cell_type": "markdown",
   "metadata": {},
   "source": [
    "#### Storing all the one hot encoded column names and numeric column names in a list"
   ]
  },
  {
   "cell_type": "code",
   "execution_count": 8,
   "metadata": {},
   "outputs": [],
   "source": [
    "cols = [raceIdx,diag_1Idx,diag_2Idx,diag_3Idx,admission_type_nameIdx,dischage_disposition_nameIdx,admission_source_nameIdx\n",
    ",genderIdx,ageIdx,max_glu_serumIdx,A1CresultIdx,metforminIdx,repaglinideIdx,nateglinideIdx,chlorpropamideIdx,glimepirideIdx\n",
    ",glipizideIdx,glyburideIdx,pioglitazoneIdx,rosiglitazoneIdx,acarboseIdx,miglitolIdx,insulinIdx,glyburidemetforminIdx\n",
    ",changeIdx,diabetesMedIdx]\n",
    "newCols = []\n",
    "for i in cols:\n",
    "    newCols = newCols+list(map(lambda x: x[1], i))\n",
    "newCols = newCols + ['time_in_hospital','num_lab_procedures','num_procedures','num_medications','number_outpatient',\n",
    "                     'number_emergency','number_inpatient','number_diagnoses']"
   ]
  },
  {
   "cell_type": "code",
   "execution_count": 9,
   "metadata": {},
   "outputs": [
    {
     "data": {
      "text/plain": [
       "2390"
      ]
     },
     "execution_count": 9,
     "metadata": {},
     "output_type": "execute_result"
    }
   ],
   "source": [
    "#### Length of the list should equal the number of one hot encoded features/columns\n",
    "len(newCols)"
   ]
  },
  {
   "cell_type": "markdown",
   "metadata": {},
   "source": [
    "#### Examining the One Hot Encoded Output by looking at a few columns\n",
    "##### The Encoder creates a vector with 3 components, the first component denotes the number of distinct categories in the column and the second component denotes the index of the vector in which the number '1' is found and the third component [1.0] denotes the number which is found in the index mentioned by the second component. \n",
    "##### For example (4, [3], [1.0] ) means that, the vector is of length 4 (4 columns) since there are 4 distinct categories and the number '1.0' is present only in the 3rd index of the vector and rest of the indices contain number '0.0'"
   ]
  },
  {
   "cell_type": "code",
   "execution_count": 10,
   "metadata": {
    "scrolled": false
   },
   "outputs": [
    {
     "name": "stdout",
     "output_type": "stream",
     "text": [
      "+----------------+-----------------------+----------------------+---------------------------+\n",
      "|time_in_hospital|insulin_indexed_encoded|change_indexed_encoded|diabetesMed_indexed_encoded|\n",
      "+----------------+-----------------------+----------------------+---------------------------+\n",
      "|               1|          (4,[0],[1.0])|         (2,[0],[1.0])|              (2,[1],[1.0])|\n",
      "|               3|          (4,[3],[1.0])|         (2,[1],[1.0])|              (2,[0],[1.0])|\n",
      "|               2|          (4,[0],[1.0])|         (2,[0],[1.0])|              (2,[0],[1.0])|\n",
      "|               2|          (4,[3],[1.0])|         (2,[1],[1.0])|              (2,[0],[1.0])|\n",
      "|               1|          (4,[1],[1.0])|         (2,[1],[1.0])|              (2,[0],[1.0])|\n",
      "+----------------+-----------------------+----------------------+---------------------------+\n",
      "only showing top 5 rows\n",
      "\n"
     ]
    }
   ],
   "source": [
    "hosp_readmit_df2.select('time_in_hospital','insulin_indexed_encoded',\n",
    "                        'change_indexed_encoded','diabetesMed_indexed_encoded').show(5)"
   ]
  },
  {
   "cell_type": "markdown",
   "metadata": {},
   "source": [
    "#### Only picking the one hot encoded columns & numeric columns before doing PCA"
   ]
  },
  {
   "cell_type": "code",
   "execution_count": 11,
   "metadata": {},
   "outputs": [],
   "source": [
    "required_cols =['race_indexed_encoded','diag_1_indexed_encoded','diag_2_indexed_encoded','diag_3_indexed_encoded','admission_type_name_indexed_encoded',\n",
    "'dischage_disposition_name_indexed_encoded','admission_source_name_indexed_encoded','gender_indexed_encoded','age_indexed_encoded',\n",
    "'max_glu_serum_indexed_encoded','A1Cresult_indexed_encoded','metformin_indexed_encoded','repaglinide_indexed_encoded',\n",
    "'nateglinide_indexed_encoded','chlorpropamide_indexed_encoded','glimepiride_indexed_encoded','glipizide_indexed_encoded',\n",
    "'glyburide_indexed_encoded','pioglitazone_indexed_encoded','rosiglitazone_indexed_encoded','acarbose_indexed_encoded',\n",
    "'miglitol_indexed_encoded','insulin_indexed_encoded','glyburide-metformin_indexed_encoded','change_indexed_encoded',\n",
    "'diabetesMed_indexed_encoded','time_in_hospital','num_lab_procedures','num_procedures','num_medications','number_outpatient',\n",
    "'number_emergency','number_inpatient','number_diagnoses']\n",
    "\n",
    "hosp_readmit_df3 = hosp_readmit_df2.select([c for c in required_cols])"
   ]
  },
  {
   "cell_type": "markdown",
   "metadata": {},
   "source": [
    "### 3. Using Vector Assembler, Standard Scaler and PCA to generate the Principal Components\n",
    "\n",
    "##### Standard Scaler is to ensure that the all the features are centered with mean 0, as PCA requires all the features to have mean 0, and since the variables in this data have different units and different scales, we will also be setting the standard deviation as 1, so that one variable does not dominate over the other\n",
    "\n",
    "##### We are building 2 principal components as, the first 2 PCs are the most important ones which explain majority of the variation in the data, and the features with the highest absolute value of loading vector coefficients in the first two PCs will be the most important variables"
   ]
  },
  {
   "cell_type": "code",
   "execution_count": 12,
   "metadata": {},
   "outputs": [],
   "source": [
    "assembler = VectorAssembler(inputCols=[c for c in hosp_readmit_df3.columns],outputCol=\"features_va\")\n",
    "standard_scaler = feature.StandardScaler(withMean=True,withStd = True,inputCol='features_va', outputCol='zfeatures')\n",
    "PCA = feature.PCA(k=2, inputCol='zfeatures', outputCol='pca_scores')\n",
    "\n",
    "pipe_pca = Pipeline(stages=[assembler,standard_scaler,PCA]).fit(hosp_readmit_df3)\n",
    "hosp_readmit_pca_df = pipe_pca.transform(hosp_readmit_df3).select('pca_scores')"
   ]
  },
  {
   "cell_type": "markdown",
   "metadata": {},
   "source": [
    "### 4. Printing the top 10 features for both PC1 & PC2 to identify the most important features which explain a large amount of variation in the data\n",
    "\n",
    "#### Features selected on the basis of the absolute values of the loading vector of PC1 & PC2"
   ]
  },
  {
   "cell_type": "code",
   "execution_count": 13,
   "metadata": {
    "scrolled": false
   },
   "outputs": [
    {
     "name": "stdout",
     "output_type": "stream",
     "text": [
      "              feature  abs_loading\n",
      "2378         changeNo     0.383429\n",
      "2379         changeCh     0.383429\n",
      "2381    diabetesMedNo     0.361159\n",
      "2380   diabetesMedYes     0.361159\n",
      "2370        insulinNo     0.277394\n",
      "2326      metforminNo     0.188435\n",
      "2385  num_medications     0.182882\n",
      "2327  metforminSteady     0.171727\n",
      "2373        insulinUp     0.144420\n",
      "2372      insulinDown     0.141952\n",
      "                                       feature  abs_loading\n",
      "2258             admission_type_name_Emergency     0.368400\n",
      "2289      admission_source_name Emergency Room     0.367960\n",
      "2290  admission_source_name Physician Referral     0.360340\n",
      "2259              admission_type_name_Elective     0.322756\n",
      "2383                        num_lab_procedures     0.218369\n",
      "2384                            num_procedures     0.155462\n",
      "2389                          number_diagnoses     0.139227\n",
      "6                                   diag_1_414     0.124082\n",
      "12                                  diag_1_715     0.121701\n",
      "2260                admission_type_name_Urgent     0.111406\n"
     ]
    }
   ],
   "source": [
    "loadings = pipe_pca.stages[-1].pc.toArray()\n",
    "first_component_loading = abs(loadings[:,0])\n",
    "second_component_loading = abs(loadings[:,1])\n",
    "\n",
    "first_component_loading = abs(first_component_loading)\n",
    "second_component_loading = abs(second_component_loading)\n",
    "\n",
    "pc1_dict = {'feature':newCols,'abs_loading':first_component_loading}\n",
    "pc1_pd = pd.DataFrame(pc1_dict)\n",
    "pc1_pd = pc1_pd.sort_values('abs_loading',ascending = False).head(10)\n",
    "\n",
    "pc2_dict = {'feature':newCols,'abs_loading':second_component_loading}\n",
    "pc2_pd = pd.DataFrame(pc2_dict)\n",
    "pc2_pd = pc2_pd.sort_values('abs_loading',ascending = False).head(10)\n",
    "\n",
    "print(pc1_pd)\n",
    "print(pc2_pd)"
   ]
  },
  {
   "cell_type": "markdown",
   "metadata": {},
   "source": [
    "### 5. SCREE PLOT & CUMMULATIVE VARIANCE PLOT to identify number of principal components that explain what % of the variation in the data"
   ]
  },
  {
   "cell_type": "code",
   "execution_count": 14,
   "metadata": {
    "scrolled": true
   },
   "outputs": [],
   "source": [
    "assembler = VectorAssembler(inputCols=[c for c in hosp_readmit_df3.columns],outputCol=\"features_va\")\n",
    "standard_scaler = feature.StandardScaler(withMean=True,withStd = True,inputCol='features_va', outputCol='zfeatures')\n",
    "PCA = feature.PCA(k=2390, inputCol='zfeatures', outputCol='pca_scores')\n",
    "pipe_pca2 = Pipeline(stages=[assembler,standard_scaler,PCA]).fit(hosp_readmit_df3)\n",
    "\n",
    "explainedVariance = pipe_pca2.stages[-1].explainedVariance\n",
    "\n"
   ]
  },
  {
   "cell_type": "markdown",
   "metadata": {},
   "source": [
    "#### From the Scree plot we can observe that 1st component explains 0.2% of the variation in the data and from the cummulative plot we can observe that 2000 components explain around 80% of the variation in the data\n",
    "\n",
    "#### Hence PCA can't be used for dimensionality reduction & feature selection, in this dataset as a large number of components (2000+) are required to explain a siginificant amount of variation ( ~80%) in the data"
   ]
  },
  {
   "cell_type": "code",
   "execution_count": 15,
   "metadata": {},
   "outputs": [
    {
     "data": {
      "image/png": "[encoded data removed]",
      "text/plain": [
       "<Figure size 432x288 with 1 Axes>"
      ]
     },
     "metadata": {
      "needs_background": "light"
     },
     "output_type": "display_data"
    }
   ],
   "source": [
    "plt.plot(np.arange(1, 11), explainedVariance[0:10])\n",
    "plt.title(\"Scree Plot\")\n",
    "plt.xlabel(\"Principal Component\")\n",
    "plt.ylabel(\"Proportion Variance Explained\")\n",
    "display()"
   ]
  },
  {
   "cell_type": "code",
   "execution_count": 16,
   "metadata": {
    "scrolled": true
   },
   "outputs": [
    {
     "data": {
      "image/png": "[encoded data removed]",
      "text/plain": [
       "<Figure size 432x288 with 1 Axes>"
      ]
     },
     "metadata": {
      "needs_background": "light"
     },
     "output_type": "display_data"
    }
   ],
   "source": [
    "cum_sum = np.cumsum(explainedVariance)\n",
    "plt.plot(np.arange(1, len(explainedVariance)+1), cum_sum)\n",
    "plt.title(\"Cumulative Sum of Variance Explained PLOT\")\n",
    "plt.xlabel(\"Cumulative Components\")\n",
    "plt.ylabel(\"Cumulative Sum of Variance Explained\")\n",
    "display()"
   ]
  },
  {
   "cell_type": "markdown",
   "metadata": {},
   "source": [
    "## B. Gradient Boosting Machine"
   ]
  },
  {
   "cell_type": "markdown",
   "metadata": {},
   "source": [
    "### 1. Performing One Hot Encoding again by including the target variable in the dataset"
   ]
  },
  {
   "cell_type": "code",
   "execution_count": 4,
   "metadata": {},
   "outputs": [],
   "source": [
    "categorical_columns= ['race','diag_1','diag_2','diag_3','admission_type_name','dischage_disposition_name','admission_source_name',\n",
    "               'gender','age','max_glu_serum','A1Cresult','metformin','repaglinide',\n",
    "               'nateglinide','chlorpropamide','glimepiride','glipizide','glyburide','pioglitazone','rosiglitazone','acarbose',\n",
    "               'miglitol','insulin','glyburide-metformin','change','diabetesMed']\n",
    "# The index of string vlaues multiple columns\n",
    "indexers = [\n",
    "    StringIndexer(inputCol=c, outputCol=\"{0}_indexed\".format(c))\n",
    "    for c in categorical_columns\n",
    "]\n",
    "\n",
    "# The encode of indexed values multiple columns\n",
    "encoders = [OneHotEncoder(dropLast=False,inputCol=indexer.getOutputCol(),\n",
    "            outputCol=\"{0}_encoded\".format(indexer.getOutputCol())) \n",
    "    for indexer in indexers\n",
    "]\n",
    "pipeline = Pipeline(stages=indexers+encoders)\n",
    "model=pipeline.fit(hosp_readmit_df)\n",
    "hosp_readmit_df_gb = model.transform(hosp_readmit_df)"
   ]
  },
  {
   "cell_type": "code",
   "execution_count": 5,
   "metadata": {},
   "outputs": [],
   "source": [
    "hosp_readmit_df_gb = hosp_readmit_df_gb.select(\n",
    "'race_indexed_encoded','diag_1_indexed_encoded','diag_2_indexed_encoded','diag_3_indexed_encoded','admission_type_name_indexed_encoded',\n",
    "'dischage_disposition_name_indexed_encoded','admission_source_name_indexed_encoded','gender_indexed_encoded','age_indexed_encoded',\n",
    "'max_glu_serum_indexed_encoded','A1Cresult_indexed_encoded','metformin_indexed_encoded','repaglinide_indexed_encoded',\n",
    "'nateglinide_indexed_encoded','chlorpropamide_indexed_encoded','glimepiride_indexed_encoded','glipizide_indexed_encoded',\n",
    "'glyburide_indexed_encoded','pioglitazone_indexed_encoded','rosiglitazone_indexed_encoded','acarbose_indexed_encoded',\n",
    "'miglitol_indexed_encoded','insulin_indexed_encoded','glyburide-metformin_indexed_encoded','change_indexed_encoded',\n",
    "'diabetesMed_indexed_encoded','time_in_hospital','num_lab_procedures','num_procedures','num_medications','number_outpatient',\n",
    "'number_emergency','number_inpatient','number_diagnoses',\n",
    "fn.col('readmitted').cast('int').alias('readmitted')\n",
    ")"
   ]
  },
  {
   "cell_type": "markdown",
   "metadata": {},
   "source": [
    "### 2. Running the baseline model"
   ]
  },
  {
   "cell_type": "markdown",
   "metadata": {},
   "source": [
    "#### Creating train and test splits"
   ]
  },
  {
   "cell_type": "code",
   "execution_count": 6,
   "metadata": {},
   "outputs": [],
   "source": [
    "gb_training_df, gb_validation_df = hosp_readmit_df_gb.randomSplit([0.6, 0.4],12343)"
   ]
  },
  {
   "cell_type": "markdown",
   "metadata": {},
   "source": [
    "#### Baseline GBT model produced an AUROC of 68.8%"
   ]
  },
  {
   "cell_type": "code",
   "execution_count": 20,
   "metadata": {
    "scrolled": true
   },
   "outputs": [
    {
     "data": {
      "text/plain": [
       "0.6882364265154644"
      ]
     },
     "execution_count": 20,
     "metadata": {},
     "output_type": "execute_result"
    }
   ],
   "source": [
    "va = VectorAssembler().setInputCols(gb_training_df.columns[0:34]).setOutputCol('features')\n",
    "gbt = GBTClassifier(labelCol='readmitted',featuresCol=\"features\")\n",
    "\n",
    "gbt_pipeline = Pipeline(stages=[va, gbt]).fit(gb_training_df)\n",
    "\n",
    "bce = BinaryClassificationEvaluator(labelCol='readmitted')\n",
    "bce.evaluate(gbt_pipeline.transform(gb_validation_df))"
   ]
  },
  {
   "cell_type": "markdown",
   "metadata": {},
   "source": [
    "#### Creating a DF with actual and predicted values"
   ]
  },
  {
   "cell_type": "code",
   "execution_count": 21,
   "metadata": {},
   "outputs": [],
   "source": [
    "gbt_actual_predicted_df = gbt_pipeline.transform(gb_validation_df).select('readmitted',fn.col('prediction').cast('int').alias('prediction'))"
   ]
  },
  {
   "cell_type": "markdown",
   "metadata": {},
   "source": [
    "#### Calculating Accuracy and Recall scores for baseline model"
   ]
  },
  {
   "cell_type": "code",
   "execution_count": 22,
   "metadata": {},
   "outputs": [
    {
     "name": "stdout",
     "output_type": "stream",
     "text": [
      "+------------------+------------------+\n",
      "|          Accuracy|            Recall|\n",
      "+------------------+------------------+\n",
      "|0.6360157016683022|0.4926968293551835|\n",
      "+------------------+------------------+\n",
      "\n"
     ]
    }
   ],
   "source": [
    "gbt_actual_predicted_df.select(\n",
    "(fn.sum(fn.when(fn.col('readmitted')==fn.col('prediction'),1).otherwise(0))/fn.count(fn.col('readmitted'))).alias('Accuracy'),\n",
    "(fn.sum(fn.when((fn.col('readmitted')==1) & (fn.col('prediction')==1),1).otherwise(0))/\n",
    "(fn.sum(fn.when((fn.col('readmitted')==1) & (fn.col('prediction')==1),1).otherwise(0))+ \n",
    "fn.sum(fn.when((fn.col('readmitted')==1) & (fn.col('prediction')==0),1).otherwise(0)))).alias('Recall')).show()"
   ]
  },
  {
   "cell_type": "markdown",
   "metadata": {},
   "source": [
    "### 3. Tuning the model by using hyperparameters to improve model performance"
   ]
  },
  {
   "cell_type": "markdown",
   "metadata": {},
   "source": [
    "#### Creating a smaller sample since the code is not running on the entire training data - further splitting the train data into a smaller sample"
   ]
  },
  {
   "cell_type": "code",
   "execution_count": 7,
   "metadata": {},
   "outputs": [],
   "source": [
    "gb_training_sample_df, gb_validation2_df = gb_training_df.randomSplit([0.6, 0.4],12343)"
   ]
  },
  {
   "cell_type": "markdown",
   "metadata": {},
   "source": [
    "#### GRID Search"
   ]
  },
  {
   "cell_type": "code",
   "execution_count": 24,
   "metadata": {},
   "outputs": [],
   "source": [
    "va = VectorAssembler().setInputCols(gb_training_sample_df.columns[0:34]).setOutputCol('features')\n",
    "gbt = GBTClassifier(labelCol='readmitted',featuresCol=\"features\")\n",
    "gbt_pipeline = Pipeline(stages=[va, gbt])\n",
    "\n",
    "grid = (ParamGridBuilder().addGrid(gbt.featureSubsetStrategy, ['auto']).addGrid(gbt.stepSize,[0.1]).addGrid(gbt.maxDepth,[5]).addGrid(gbt.maxIter,[150]).build())\n",
    "#grid = (ParamGridBuilder().addGrid(gbt.featureSubsetStrategy, ['auto','sqrt','log2']).addGrid(gbt.stepSize,[0.1,0.3,0.5]).addGrid(gbt.maxDepth, [5, 10, 15]).addGrid(gbt.maxIter, [150,200,350]).build())\n",
    "evaluator = BinaryClassificationEvaluator(labelCol = 'readmitted',metricName = 'areaUnderROC')\n",
    "cv = CrossValidator(estimator=gbt_pipeline, estimatorParamMaps=grid, evaluator=evaluator, numFolds = 3, seed = 65)\n",
    "fitted_cv = cv.fit(gb_training_sample_df)"
   ]
  },
  {
   "cell_type": "markdown",
   "metadata": {},
   "source": [
    "#### AUC for tuned GBT model"
   ]
  },
  {
   "cell_type": "code",
   "execution_count": 14,
   "metadata": {},
   "outputs": [
    {
     "data": {
      "text/plain": [
       "0.6933879328203311"
      ]
     },
     "execution_count": 14,
     "metadata": {},
     "output_type": "execute_result"
    }
   ],
   "source": [
    "bce = BinaryClassificationEvaluator(labelCol='readmitted')\n",
    "bce.evaluate(fitted_cv.bestModel.transform(gb_validation_df))"
   ]
  },
  {
   "cell_type": "code",
   "execution_count": 15,
   "metadata": {},
   "outputs": [
    {
     "data": {
      "text/plain": [
       "0.6892405341206762"
      ]
     },
     "execution_count": 15,
     "metadata": {},
     "output_type": "execute_result"
    }
   ],
   "source": [
    "bce = BinaryClassificationEvaluator(labelCol='readmitted')\n",
    "bce.evaluate(fitted_cv.bestModel.transform(gb_validation2_df))"
   ]
  },
  {
   "cell_type": "markdown",
   "metadata": {},
   "source": [
    "#### Calculating Accuracy and Recall scores for tuned GBT model"
   ]
  },
  {
   "cell_type": "code",
   "execution_count": 29,
   "metadata": {},
   "outputs": [],
   "source": [
    "gbt_tuned_actual_predicted_df = fitted_cv.transform(gb_validation_df).select('readmitted',fn.col('prediction').cast('int').alias('prediction'))"
   ]
  },
  {
   "cell_type": "code",
   "execution_count": 18,
   "metadata": {},
   "outputs": [
    {
     "name": "stdout",
     "output_type": "stream",
     "text": [
      "+------------------+------------------+\n",
      "|          Accuracy|            Recall|\n",
      "+------------------+------------------+\n",
      "|0.6400392541707557|0.5157107231920199|\n",
      "+------------------+------------------+\n",
      "\n"
     ]
    }
   ],
   "source": [
    "gbt_tuned_actual_predicted_df.select(\n",
    "(fn.sum(fn.when(fn.col('readmitted')==fn.col('prediction'),1).otherwise(0))/fn.count(fn.col('readmitted'))).alias('Accuracy'),\n",
    "(fn.sum(fn.when((fn.col('readmitted')==1) & (fn.col('prediction')==1),1).otherwise(0))/\n",
    "(fn.sum(fn.when((fn.col('readmitted')==1) & (fn.col('prediction')==1),1).otherwise(0))+ \n",
    "fn.sum(fn.when((fn.col('readmitted')==1) & (fn.col('prediction')==0),1).otherwise(0)))).alias('Recall')).show()"
   ]
  },
  {
   "cell_type": "markdown",
   "metadata": {},
   "source": [
    "#### Obtaing Feature Importance of variables from GBT model"
   ]
  },
  {
   "cell_type": "code",
   "execution_count": 22,
   "metadata": {},
   "outputs": [
    {
     "data": {
      "text/html": [
       "<div>\n",
       "<style scoped>\n",
       "    .dataframe tbody tr th:only-of-type {\n",
       "        vertical-align: middle;\n",
       "    }\n",
       "\n",
       "    .dataframe tbody tr th {\n",
       "        vertical-align: top;\n",
       "    }\n",
       "\n",
       "    .dataframe thead th {\n",
       "        text-align: right;\n",
       "    }\n",
       "</style>\n",
       "<table border=\"1\" class=\"dataframe\">\n",
       "  <thead>\n",
       "    <tr style=\"text-align: right;\">\n",
       "      <th></th>\n",
       "      <th>feature</th>\n",
       "      <th>importance</th>\n",
       "    </tr>\n",
       "  </thead>\n",
       "  <tbody>\n",
       "    <tr>\n",
       "      <td>0</td>\n",
       "      <td>race_indexed_encoded</td>\n",
       "      <td>0.009083</td>\n",
       "    </tr>\n",
       "    <tr>\n",
       "      <td>5</td>\n",
       "      <td>dischage_disposition_name_indexed_encoded</td>\n",
       "      <td>0.006245</td>\n",
       "    </tr>\n",
       "    <tr>\n",
       "      <td>11</td>\n",
       "      <td>metformin_indexed_encoded</td>\n",
       "      <td>0.004066</td>\n",
       "    </tr>\n",
       "    <tr>\n",
       "      <td>2</td>\n",
       "      <td>diag_2_indexed_encoded</td>\n",
       "      <td>0.003725</td>\n",
       "    </tr>\n",
       "    <tr>\n",
       "      <td>23</td>\n",
       "      <td>glyburide-metformin_indexed_encoded</td>\n",
       "      <td>0.003533</td>\n",
       "    </tr>\n",
       "    <tr>\n",
       "      <td>14</td>\n",
       "      <td>chlorpropamide_indexed_encoded</td>\n",
       "      <td>0.003468</td>\n",
       "    </tr>\n",
       "    <tr>\n",
       "      <td>27</td>\n",
       "      <td>num_lab_procedures</td>\n",
       "      <td>0.003450</td>\n",
       "    </tr>\n",
       "    <tr>\n",
       "      <td>10</td>\n",
       "      <td>A1Cresult_indexed_encoded</td>\n",
       "      <td>0.003233</td>\n",
       "    </tr>\n",
       "    <tr>\n",
       "      <td>7</td>\n",
       "      <td>gender_indexed_encoded</td>\n",
       "      <td>0.003230</td>\n",
       "    </tr>\n",
       "    <tr>\n",
       "      <td>1</td>\n",
       "      <td>diag_1_indexed_encoded</td>\n",
       "      <td>0.003187</td>\n",
       "    </tr>\n",
       "    <tr>\n",
       "      <td>17</td>\n",
       "      <td>glyburide_indexed_encoded</td>\n",
       "      <td>0.002899</td>\n",
       "    </tr>\n",
       "    <tr>\n",
       "      <td>15</td>\n",
       "      <td>glimepiride_indexed_encoded</td>\n",
       "      <td>0.002714</td>\n",
       "    </tr>\n",
       "    <tr>\n",
       "      <td>21</td>\n",
       "      <td>miglitol_indexed_encoded</td>\n",
       "      <td>0.002347</td>\n",
       "    </tr>\n",
       "    <tr>\n",
       "      <td>26</td>\n",
       "      <td>time_in_hospital</td>\n",
       "      <td>0.002231</td>\n",
       "    </tr>\n",
       "    <tr>\n",
       "      <td>25</td>\n",
       "      <td>diabetesMed_indexed_encoded</td>\n",
       "      <td>0.001971</td>\n",
       "    </tr>\n",
       "    <tr>\n",
       "      <td>8</td>\n",
       "      <td>age_indexed_encoded</td>\n",
       "      <td>0.001882</td>\n",
       "    </tr>\n",
       "    <tr>\n",
       "      <td>30</td>\n",
       "      <td>number_outpatient</td>\n",
       "      <td>0.001863</td>\n",
       "    </tr>\n",
       "    <tr>\n",
       "      <td>24</td>\n",
       "      <td>change_indexed_encoded</td>\n",
       "      <td>0.001651</td>\n",
       "    </tr>\n",
       "    <tr>\n",
       "      <td>20</td>\n",
       "      <td>acarbose_indexed_encoded</td>\n",
       "      <td>0.001274</td>\n",
       "    </tr>\n",
       "    <tr>\n",
       "      <td>19</td>\n",
       "      <td>rosiglitazone_indexed_encoded</td>\n",
       "      <td>0.001192</td>\n",
       "    </tr>\n",
       "    <tr>\n",
       "      <td>6</td>\n",
       "      <td>admission_source_name_indexed_encoded</td>\n",
       "      <td>0.001084</td>\n",
       "    </tr>\n",
       "    <tr>\n",
       "      <td>9</td>\n",
       "      <td>max_glu_serum_indexed_encoded</td>\n",
       "      <td>0.000927</td>\n",
       "    </tr>\n",
       "    <tr>\n",
       "      <td>3</td>\n",
       "      <td>diag_3_indexed_encoded</td>\n",
       "      <td>0.000902</td>\n",
       "    </tr>\n",
       "    <tr>\n",
       "      <td>13</td>\n",
       "      <td>nateglinide_indexed_encoded</td>\n",
       "      <td>0.000854</td>\n",
       "    </tr>\n",
       "    <tr>\n",
       "      <td>31</td>\n",
       "      <td>number_emergency</td>\n",
       "      <td>0.000826</td>\n",
       "    </tr>\n",
       "    <tr>\n",
       "      <td>4</td>\n",
       "      <td>admission_type_name_indexed_encoded</td>\n",
       "      <td>0.000799</td>\n",
       "    </tr>\n",
       "    <tr>\n",
       "      <td>28</td>\n",
       "      <td>num_procedures</td>\n",
       "      <td>0.000692</td>\n",
       "    </tr>\n",
       "    <tr>\n",
       "      <td>16</td>\n",
       "      <td>glipizide_indexed_encoded</td>\n",
       "      <td>0.000682</td>\n",
       "    </tr>\n",
       "    <tr>\n",
       "      <td>18</td>\n",
       "      <td>pioglitazone_indexed_encoded</td>\n",
       "      <td>0.000648</td>\n",
       "    </tr>\n",
       "    <tr>\n",
       "      <td>29</td>\n",
       "      <td>num_medications</td>\n",
       "      <td>0.000402</td>\n",
       "    </tr>\n",
       "    <tr>\n",
       "      <td>22</td>\n",
       "      <td>insulin_indexed_encoded</td>\n",
       "      <td>0.000393</td>\n",
       "    </tr>\n",
       "    <tr>\n",
       "      <td>32</td>\n",
       "      <td>number_inpatient</td>\n",
       "      <td>0.000252</td>\n",
       "    </tr>\n",
       "    <tr>\n",
       "      <td>33</td>\n",
       "      <td>number_diagnoses</td>\n",
       "      <td>0.000225</td>\n",
       "    </tr>\n",
       "    <tr>\n",
       "      <td>12</td>\n",
       "      <td>repaglinide_indexed_encoded</td>\n",
       "      <td>0.000212</td>\n",
       "    </tr>\n",
       "  </tbody>\n",
       "</table>\n",
       "</div>"
      ],
      "text/plain": [
       "                                      feature  importance\n",
       "0                        race_indexed_encoded    0.009083\n",
       "5   dischage_disposition_name_indexed_encoded    0.006245\n",
       "11                  metformin_indexed_encoded    0.004066\n",
       "2                      diag_2_indexed_encoded    0.003725\n",
       "23        glyburide-metformin_indexed_encoded    0.003533\n",
       "14             chlorpropamide_indexed_encoded    0.003468\n",
       "27                         num_lab_procedures    0.003450\n",
       "10                  A1Cresult_indexed_encoded    0.003233\n",
       "7                      gender_indexed_encoded    0.003230\n",
       "1                      diag_1_indexed_encoded    0.003187\n",
       "17                  glyburide_indexed_encoded    0.002899\n",
       "15                glimepiride_indexed_encoded    0.002714\n",
       "21                   miglitol_indexed_encoded    0.002347\n",
       "26                           time_in_hospital    0.002231\n",
       "25                diabetesMed_indexed_encoded    0.001971\n",
       "8                         age_indexed_encoded    0.001882\n",
       "30                          number_outpatient    0.001863\n",
       "24                     change_indexed_encoded    0.001651\n",
       "20                   acarbose_indexed_encoded    0.001274\n",
       "19              rosiglitazone_indexed_encoded    0.001192\n",
       "6       admission_source_name_indexed_encoded    0.001084\n",
       "9               max_glu_serum_indexed_encoded    0.000927\n",
       "3                      diag_3_indexed_encoded    0.000902\n",
       "13                nateglinide_indexed_encoded    0.000854\n",
       "31                           number_emergency    0.000826\n",
       "4         admission_type_name_indexed_encoded    0.000799\n",
       "28                             num_procedures    0.000692\n",
       "16                  glipizide_indexed_encoded    0.000682\n",
       "18               pioglitazone_indexed_encoded    0.000648\n",
       "29                            num_medications    0.000402\n",
       "22                    insulin_indexed_encoded    0.000393\n",
       "32                           number_inpatient    0.000252\n",
       "33                           number_diagnoses    0.000225\n",
       "12                repaglinide_indexed_encoded    0.000212"
      ]
     },
     "execution_count": 22,
     "metadata": {},
     "output_type": "execute_result"
    }
   ],
   "source": [
    "gbt_feature_imp_df = pd.DataFrame(list(zip(hosp_readmit_df_gb.columns[0:34], fitted_cv.bestModel.stages[1].featureImportances.toArray())),\n",
    "            columns = ['feature', 'importance']).sort_values('importance', ascending = False)\n",
    "gbt_feature_imp_df"
   ]
  }
 ],
 "metadata": {
  "kernelspec": {
   "display_name": "Python 3",
   "language": "python",
   "name": "python3"
  },
  "language_info": {
   "codemirror_mode": {
    "name": "ipython",
    "version": 3
   },
   "file_extension": ".py",
   "mimetype": "text/x-python",
   "name": "python",
   "nbconvert_exporter": "python",
   "pygments_lexer": "ipython3",
   "version": "3.7.4"
  }
 },
 "nbformat": 4,
 "nbformat_minor": 2
}
